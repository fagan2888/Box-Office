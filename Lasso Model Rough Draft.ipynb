{
 "cells": [
  {
   "cell_type": "code",
   "execution_count": 18,
   "metadata": {},
   "outputs": [],
   "source": [
    "#save model Using joblib\n",
    "\n",
    "import warnings\n",
    "warnings.filterwarnings('ignore')\n",
    "import pandas as pd\n",
    "import numpy as np\n",
    "\n",
    "\n",
    "from sklearn.ensemble import (BaggingClassifier, ExtraTreesClassifier, \n",
    "    RandomForestClassifier, AdaBoostClassifier, GradientBoostingClassifier, VotingClassifier)\n",
    "from sklearn.linear_model import (LinearRegression, LogisticRegressionCV, \n",
    "    LogisticRegression, SGDClassifier, Ridge, Lasso, ElasticNet, LassoCV, RidgeCV, ElasticNetCV)\n",
    "from sklearn.svm import LinearSVC, NuSVC, SVC\n",
    "from xgboost import XGBClassifier\n",
    "from sklearn.neighbors import KNeighborsClassifier\n",
    "from sklearn.naive_bayes import MultinomialNB, GaussianNB \n",
    "from sklearn.neural_network import MLPClassifier\n",
    "\n",
    "from sklearn import cross_validation\n",
    "from sklearn.cross_validation import train_test_split, cross_val_score\n",
    "from sklearn.model_selection import train_test_split, cross_val_predict, cross_validate, GridSearchCV\n",
    "\n",
    "from sklearn.metrics import accuracy_score, f1_score, mean_absolute_error, r2_score,confusion_matrix, classification_report\n",
    "from sklearn.decomposition import PCA\n",
    "from sklearn.feature_selection import SelectFromModel\n",
    "from sklearn.preprocessing import StandardScaler, LabelEncoder, OneHotEncoder\n",
    "from sklearn import preprocessing\n",
    "\n",
    "from sklearn.discriminant_analysis import LinearDiscriminantAnalysis as LDA\n",
    "from sklearn.base import BaseEstimator, TransformerMixin\n",
    "from sklearn.pipeline import Pipeline\n",
    "from sklearn.externals import joblib\n",
    "\n",
    "from yellowbrick.classifier import ClassificationReport, ROCAUC, ConfusionMatrix\n",
    "from yellowbrick.features import FeatureImportances\n",
    "\n",
    "\n",
    "\n",
    "%matplotlib inline"
   ]
  },
  {
   "cell_type": "code",
   "execution_count": 19,
   "metadata": {},
   "outputs": [],
   "source": [
    "url = \"https://github.com/georgetown-analytics/Box-Office/blob/master/Lasso%20Model.csv\""
   ]
  },
  {
   "cell_type": "code",
   "execution_count": 27,
   "metadata": {},
   "outputs": [],
   "source": [
    "X = [\"Budget_Real_Log\", \"Holiday\", \"Summer\", \"Spring\", \"Fall\", \"Winter\",\n",
    "'Rating_RT', 'Rating_IMDB', 'Rating_Metacritic','isCollection','Length',\n",
    "'Genre_Drama', 'Genre_Comedy', 'Genre_Action_Adventure', 'Genre_Thriller_Horror',\n",
    " 'Genre_Romance', 'Genre_Crime_Mystery', 'Genre_Animation', 'Genre_Scifi',\n",
    " 'Genre_Documentary', 'Genre_Other',\n",
    "'Rated_G_PG', 'Rated_PG-13', 'Rated_R', 'Rated_Other',\n",
    "'Comp_Disney','Comp_DreamWorks', 'Comp_Fox', 'Comp_Lionsgate',\n",
    " 'Comp_MGM', 'Comp_Miramax', 'Comp_Paramount', 'Comp_Sony',\n",
    " 'Comp_Universal', 'Comp_WarnerBros', 'Comp_Other',  \n",
    "'Revenue_Actor_Real_Log','Revenue_Director_Real_Log', 'Revenue_Writer_Real_Log']\n",
    "\n",
    "seed=3\n",
    "X_train, X_test = cross_validation.train_test_split(X, test_size = 0.2, random_state=seed)"
   ]
  },
  {
   "cell_type": "code",
   "execution_count": 30,
   "metadata": {},
   "outputs": [
    {
     "ename": "TypeError",
     "evalue": "parser_f() got an unexpected keyword argument 'X'",
     "output_type": "error",
     "traceback": [
      "\u001b[0;31m---------------------------------------------------------------------------\u001b[0m",
      "\u001b[0;31mTypeError\u001b[0m                                 Traceback (most recent call last)",
      "\u001b[0;32m<ipython-input-30-128415878de7>\u001b[0m in \u001b[0;36m<module>\u001b[0;34m()\u001b[0m\n\u001b[0;32m----> 1\u001b[0;31m \u001b[0mdataframe\u001b[0m \u001b[0;34m=\u001b[0m \u001b[0mpd\u001b[0m\u001b[0;34m.\u001b[0m\u001b[0mread_csv\u001b[0m\u001b[0;34m(\u001b[0m\u001b[0murl\u001b[0m\u001b[0;34m,\u001b[0m \u001b[0mX\u001b[0m\u001b[0;34m=\u001b[0m\u001b[0mX\u001b[0m\u001b[0;34m)\u001b[0m\u001b[0;34m\u001b[0m\u001b[0m\n\u001b[0m",
      "\u001b[0;31mTypeError\u001b[0m: parser_f() got an unexpected keyword argument 'X'"
     ]
    }
   ],
   "source": [
    "dataframe = pd.read_csv(url, X=X)"
   ]
  },
  {
   "cell_type": "code",
   "execution_count": 31,
   "metadata": {},
   "outputs": [
    {
     "ename": "NameError",
     "evalue": "name 'dataframe' is not defined",
     "output_type": "error",
     "traceback": [
      "\u001b[0;31m---------------------------------------------------------------------------\u001b[0m",
      "\u001b[0;31mNameError\u001b[0m                                 Traceback (most recent call last)",
      "\u001b[0;32m<ipython-input-31-e6611c7382b6>\u001b[0m in \u001b[0;36m<module>\u001b[0;34m()\u001b[0m\n\u001b[0;32m----> 1\u001b[0;31m \u001b[0marray\u001b[0m \u001b[0;34m=\u001b[0m \u001b[0mdataframe\u001b[0m\u001b[0;34m.\u001b[0m\u001b[0mvalues\u001b[0m\u001b[0;34m\u001b[0m\u001b[0m\n\u001b[0m",
      "\u001b[0;31mNameError\u001b[0m: name 'dataframe' is not defined"
     ]
    }
   ],
   "source": [
    "array = dataframe.values"
   ]
  },
  {
   "cell_type": "code",
   "execution_count": null,
   "metadata": {},
   "outputs": [],
   "source": [
    "#Lasso Regression\n",
    "lassoreg = LassoCV(fit_intercept=True, normalize=True) #alpha=0.001,\n",
    "lassoreg.fit(X_train, y_train)\n",
    "print(lassoreg.score(X_test, y_test))\n",
    "print(\" Training set MAE:\", mean_absolute_error(np.exp(y_train), np.exp(lassoreg.predict(X_train))), \"dollars\", '\\n',\n",
    "      \"Training set r_squared:\", r2_score(y_train, lassoreg.predict(X_train)), '\\n',\n",
    "      \"Testing set MAE:\", mean_absolute_error(np.exp(y_test), np.exp(lassoreg.predict(X_test))), \"dollars\", '\\n',\n",
    "      \"Testing set r_squared:\", r2_score(y_test, lassoreg.predict(X_test)), '\\n',)\n",
    "plt.figure(figsize=(15,3))\n",
    "plt.bar(X.columns, lassoreg.coef_)\n",
    "plt.xticks(rotation=90)\n",
    "plt.xlabel(\"features\")\n",
    "plt.ylabel(\"Lasso coef_\")\n",
    "plt.show()\n",
    "\n",
    "plt.scatter(np.exp(y_test), np.exp(lassoreg.predict(X_test)))\n",
    "plt.xlabel('True Values')\n",
    "plt.ylabel('Predictions')\n",
    "plt.show()"
   ]
  },
  {
   "cell_type": "code",
   "execution_count": null,
   "metadata": {},
   "outputs": [],
   "source": [
    "# save the model to disk\n",
    "\n",
    "two_up = os.path.abspath(os.path.join(os.getcwd(),\"../..\"))\n",
    "filename = two_up + r'\\Users\\lanceliu\\Downloads\\lasso_20180901.pkl'\n",
    "vc_check = joblib.load(filename)\n",
    "print(vc_check)\n",
    "oz = ClassificationReport(vc_check, support=True)\n",
    "oz.fit(X_train_std, y_train_std)\n",
    "oz.score(X_test_std, y_test_std)\n",
    "oz.poof()"
   ]
  },
  {
   "cell_type": "code",
   "execution_count": null,
   "metadata": {},
   "outputs": [],
   "source": [
    "#load the model from disk\n",
    "loaded_model = joblib.load(filename)\n",
    "result = loaded_model.score(X_test, Y_test)\n",
    "print(result)"
   ]
  }
 ],
 "metadata": {
  "kernelspec": {
   "display_name": "Python 3",
   "language": "python",
   "name": "python3"
  },
  "language_info": {
   "codemirror_mode": {
    "name": "ipython",
    "version": 3
   },
   "file_extension": ".py",
   "mimetype": "text/x-python",
   "name": "python",
   "nbconvert_exporter": "python",
   "pygments_lexer": "ipython3",
   "version": "3.6.4"
  }
 },
 "nbformat": 4,
 "nbformat_minor": 2
}
