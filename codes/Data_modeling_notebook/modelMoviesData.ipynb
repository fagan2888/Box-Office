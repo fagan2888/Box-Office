{
 "cells": [
  {
   "cell_type": "markdown",
   "metadata": {},
   "source": [
    "# Movie Revenue and Profit Prediction \n",
    "\n",
    "This notebook works through regression, classification, and clustering models related to predicting the revenue or profit of movies released between 1995 and June 2018.  The related GitHub for this project is here: https://github.com/georgetown-analytics/Box-Office.  \n",
    "\n",
    "The raw data sources were cleaned, wrangled, and pre-processed in separate python codes stored here: https://github.com/georgetown-analytics/Box-Office/tree/master/codes.  These notebooks are for the modeling stage of the project."
   ]
  },
  {
   "cell_type": "code",
   "execution_count": 9,
   "metadata": {},
   "outputs": [],
   "source": [
    "import pandas as pd\n",
    "import numpy as np\n",
    "import pandas.io.sql as pd_sql\n",
    "import sqlite3 as sql\n",
    "import matplotlib.pyplot as plt\n",
    "from pandas.plotting import scatter_matrix\n",
    "import seaborn as sns\n",
    "\n",
    "import statsmodels.api as sm\n",
    "\n",
    "from sklearn.ensemble import (BaggingClassifier, ExtraTreesClassifier, \n",
    "    RandomForestClassifier, AdaBoostClassifier, GradientBoostingClassifier)\n",
    "from sklearn.linear_model import (LinearRegression, LogisticRegressionCV, \n",
    "    LogisticRegression, SGDClassifier, Ridge, Lasso, ElasticNet, LassoCV, RidgeCV)\n",
    "from sklearn.svm import LinearSVC, NuSVC, SVC\n",
    "from xgboost import XGBClassifier\n",
    "from sklearn.neighbors import KNeighborsClassifier\n",
    "from sklearn.naive_bayes import MultinomialNB, GaussianNB \n",
    "\n",
    "from sklearn import cross_validation\n",
    "from sklearn.cross_validation import train_test_split\n",
    "from sklearn.model_selection import train_test_split\n",
    "\n",
    "from sklearn.metrics import accuracy_score, f1_score\n",
    "from sklearn.decomposition import PCA\n",
    "from sklearn.feature_selection import SelectFromModel\n",
    "\n",
    "from sklearn.discriminant_analysis import LinearDiscriminantAnalysis as LDA\n",
    "from sklearn.base import BaseEstimator, TransformerMixin\n",
    "from sklearn.preprocessing import LabelEncoder, OneHotEncoder\n",
    "from sklearn.pipeline import Pipeline\n",
    "\n",
    "from yellowbrick.classifier import ClassificationReport\n",
    "\n",
    "from sklearn.tree import export_graphviz\n",
    "import pydot\n",
    "\n",
    "%matplotlib notebook"
   ]
  },
  {
   "cell_type": "code",
   "execution_count": 2,
   "metadata": {},
   "outputs": [],
   "source": [
    "con = sql.connect(r'c:\\users\\rebecca\\projs\\Box-Office\\database\\movies.db') \n",
    "\n",
    "movies = pd_sql.read_sql('select * from finalMovies_20180814', con, index_col='index')\n"
   ]
  },
  {
   "cell_type": "markdown",
   "metadata": {},
   "source": [
    "# Regression Models\n",
    "\n",
    "This section will look at whether we can predict the actual revenue of movies using regression modeling techniques.  "
   ]
  },
  {
   "cell_type": "code",
   "execution_count": 3,
   "metadata": {},
   "outputs": [
    {
     "name": "stderr",
     "output_type": "stream",
     "text": [
      "C:\\Users\\Rebecca\\Anaconda3\\lib\\site-packages\\ipykernel_launcher.py:8: SettingWithCopyWarning: \n",
      "A value is trying to be set on a copy of a slice from a DataFrame.\n",
      "Try using .loc[row_indexer,col_indexer] = value instead\n",
      "\n",
      "See the caveats in the documentation: http://pandas.pydata.org/pandas-docs/stable/indexing.html#indexing-view-versus-copy\n",
      "  \n",
      "C:\\Users\\Rebecca\\Anaconda3\\lib\\site-packages\\ipykernel_launcher.py:9: SettingWithCopyWarning: \n",
      "A value is trying to be set on a copy of a slice from a DataFrame.\n",
      "Try using .loc[row_indexer,col_indexer] = value instead\n",
      "\n",
      "See the caveats in the documentation: http://pandas.pydata.org/pandas-docs/stable/indexing.html#indexing-view-versus-copy\n",
      "  if __name__ == '__main__':\n",
      "C:\\Users\\Rebecca\\Anaconda3\\lib\\site-packages\\ipykernel_launcher.py:10: SettingWithCopyWarning: \n",
      "A value is trying to be set on a copy of a slice from a DataFrame.\n",
      "Try using .loc[row_indexer,col_indexer] = value instead\n",
      "\n",
      "See the caveats in the documentation: http://pandas.pydata.org/pandas-docs/stable/indexing.html#indexing-view-versus-copy\n",
      "  # Remove the CWD from sys.path while we load stuff.\n",
      "C:\\Users\\Rebecca\\Anaconda3\\lib\\site-packages\\ipykernel_launcher.py:13: SettingWithCopyWarning: \n",
      "A value is trying to be set on a copy of a slice from a DataFrame.\n",
      "Try using .loc[row_indexer,col_indexer] = value instead\n",
      "\n",
      "See the caveats in the documentation: http://pandas.pydata.org/pandas-docs/stable/indexing.html#indexing-view-versus-copy\n",
      "  del sys.path[0]\n",
      "C:\\Users\\Rebecca\\Anaconda3\\lib\\site-packages\\ipykernel_launcher.py:14: SettingWithCopyWarning: \n",
      "A value is trying to be set on a copy of a slice from a DataFrame.\n",
      "Try using .loc[row_indexer,col_indexer] = value instead\n",
      "\n",
      "See the caveats in the documentation: http://pandas.pydata.org/pandas-docs/stable/indexing.html#indexing-view-versus-copy\n",
      "  \n",
      "C:\\Users\\Rebecca\\Anaconda3\\lib\\site-packages\\ipykernel_launcher.py:15: RuntimeWarning: divide by zero encountered in log\n",
      "  from ipykernel import kernelapp as app\n",
      "C:\\Users\\Rebecca\\Anaconda3\\lib\\site-packages\\ipykernel_launcher.py:15: SettingWithCopyWarning: \n",
      "A value is trying to be set on a copy of a slice from a DataFrame.\n",
      "Try using .loc[row_indexer,col_indexer] = value instead\n",
      "\n",
      "See the caveats in the documentation: http://pandas.pydata.org/pandas-docs/stable/indexing.html#indexing-view-versus-copy\n",
      "  from ipykernel import kernelapp as app\n",
      "C:\\Users\\Rebecca\\Anaconda3\\lib\\site-packages\\ipykernel_launcher.py:16: RuntimeWarning: divide by zero encountered in log\n",
      "  app.launch_new_instance()\n",
      "C:\\Users\\Rebecca\\Anaconda3\\lib\\site-packages\\ipykernel_launcher.py:16: SettingWithCopyWarning: \n",
      "A value is trying to be set on a copy of a slice from a DataFrame.\n",
      "Try using .loc[row_indexer,col_indexer] = value instead\n",
      "\n",
      "See the caveats in the documentation: http://pandas.pydata.org/pandas-docs/stable/indexing.html#indexing-view-versus-copy\n",
      "  app.launch_new_instance()\n",
      "C:\\Users\\Rebecca\\Anaconda3\\lib\\site-packages\\ipykernel_launcher.py:17: RuntimeWarning: divide by zero encountered in log\n",
      "C:\\Users\\Rebecca\\Anaconda3\\lib\\site-packages\\ipykernel_launcher.py:17: SettingWithCopyWarning: \n",
      "A value is trying to be set on a copy of a slice from a DataFrame.\n",
      "Try using .loc[row_indexer,col_indexer] = value instead\n",
      "\n",
      "See the caveats in the documentation: http://pandas.pydata.org/pandas-docs/stable/indexing.html#indexing-view-versus-copy\n",
      "C:\\Users\\Rebecca\\Anaconda3\\lib\\site-packages\\ipykernel_launcher.py:20: SettingWithCopyWarning: \n",
      "A value is trying to be set on a copy of a slice from a DataFrame.\n",
      "Try using .loc[row_indexer,col_indexer] = value instead\n",
      "\n",
      "See the caveats in the documentation: http://pandas.pydata.org/pandas-docs/stable/indexing.html#indexing-view-versus-copy\n"
     ]
    }
   ],
   "source": [
    "#Limit dataset to those with filled in Revenue, Budget, and Length columns.  Based on what I've seen, this helps to\n",
    "#get rid of remaining duplicates in dataset.  Also helps to narrow down dataset to test profitability, where we\n",
    "#need both revenue and budget filled in.  We could experiment with movies with revenue greater than $100,000, if \n",
    "#we choose to.\n",
    "test = movies[(movies['Revenue_Real']>0)&(movies['Budget_Real']>0)&(movies['Length']>0)]\n",
    "\n",
    "#Put zero where null\n",
    "test['Revenue_Actor_Real']=test['Revenue_Actor_Real'].apply(lambda x: 0 if pd.isnull(x) else x)\n",
    "test['Revenue_Director_Real']=test['Revenue_Director_Real'].apply(lambda x: 0 if pd.isnull(x) else x)\n",
    "test['Revenue_Writer_Real']=test['Revenue_Writer_Real'].apply(lambda x: 0 if pd.isnull(x) else x)\n",
    "\n",
    "#Could experiment with logged values of revenue and budget\n",
    "test['Revenue_Real_Log']=np.log(test['Revenue_Real'])\n",
    "test['Budget_Real_Log']=np.log(test['Budget_Real'])\n",
    "test['Revenue_Actor_Real_Log']=np.log(test['Revenue_Actor_Real'])\n",
    "test['Revenue_Director_Real_Log']=np.log(test['Revenue_Director_Real'])\n",
    "test['Revenue_Writer_Real_Log']=np.log(test['Revenue_Writer_Real'])\n",
    "\n",
    "#Create a feature called 'constant' to use in regression model.\n",
    "test['constant'] =1"
   ]
  },
  {
   "cell_type": "code",
   "execution_count": 4,
   "metadata": {},
   "outputs": [],
   "source": [
    "model = sm.OLS((test['Revenue_Real']), test[['constant', \"Budget_Real\", \"Holiday\", \"Summer\", \"Spring\", \"Fall\", \"Winter\",\n",
    "'Rating_RT', 'Rating_IMDB', 'Rating_Metacritic','isCollection','Length',\n",
    "'Genre_Drama', 'Genre_Comedy', 'Genre_Action_Adventure', 'Genre_Thriller_Horror',\n",
    " 'Genre_Romance', 'Genre_Crime_Mystery', 'Genre_Animation', 'Genre_Scifi',\n",
    " 'Genre_Documentary', 'Genre_Other',\n",
    "'Rated_G_PG', 'Rated_PG-13', 'Rated_R', 'Rated_Other',\n",
    "'Comp_Disney','Comp_DreamWorks', 'Comp_Fox', 'Comp_Lionsgate',\n",
    " 'Comp_MGM', 'Comp_Miramax', 'Comp_Paramount', 'Comp_Sony',\n",
    " 'Comp_Universal', 'Comp_WarnerBros', 'Comp_Other',  \n",
    "'Revenue_Actor_Real','Revenue_Director_Real', 'Revenue_Writer_Real',\n",
    "'Nominated_Major','Nominated_Minor', 'Won_Major', 'Won_Minor']])\n",
    "\n",
    "#test[['Budget_Real', 'Rating_RT', 'Summer', 'Winter', 'Holiday','Genre_Drama','Genre_Comedy', \n",
    "#'Rated_G_PG', 'Rated_R', 'Rated_PG-13','Comp_DreamWorks','Comp_Fox','Comp_Lionsgate','Comp_MGM',\n",
    "#'Comp_Miramax','Comp_Paramount','Comp_Sony','Comp_Universal','Comp_WarnerBros', 'Comp_Other', \n",
    "#'Revenue_Actor_Real','Revenue_Director_Real','Revenue_Writer_Real','isCollection', 'Length']]"
   ]
  },
  {
   "cell_type": "code",
   "execution_count": 5,
   "metadata": {},
   "outputs": [
    {
     "name": "stdout",
     "output_type": "stream",
     "text": [
      "                            OLS Regression Results                            \n",
      "==============================================================================\n",
      "Dep. Variable:           Revenue_Real   R-squared:                       0.693\n",
      "Model:                            OLS   Adj. R-squared:                  0.690\n",
      "Method:                 Least Squares   F-statistic:                     240.3\n",
      "Date:                Sat, 18 Aug 2018   Prob (F-statistic):               0.00\n",
      "Time:                        17:53:10   Log-Likelihood:                -88305.\n",
      "No. Observations:                4414   AIC:                         1.767e+05\n",
      "Df Residuals:                    4372   BIC:                         1.770e+05\n",
      "Df Model:                          41                                         \n",
      "Covariance Type:            nonrobust                                         \n",
      "==========================================================================================\n",
      "                             coef    std err          t      P>|t|      [0.025      0.975]\n",
      "------------------------------------------------------------------------------------------\n",
      "constant               -6.283e+07   1.33e+07     -4.737      0.000   -8.88e+07   -3.68e+07\n",
      "Budget_Real                2.1805      0.059     36.698      0.000       2.064       2.297\n",
      "Holiday                -2.135e+07   4.98e+06     -4.283      0.000   -3.11e+07   -1.16e+07\n",
      "Summer                 -2.102e+06   4.03e+06     -0.521      0.602      -1e+07     5.8e+06\n",
      "Spring                 -6.639e+06   4.67e+06     -1.423      0.155   -1.58e+07    2.51e+06\n",
      "Fall                   -2.252e+07   4.49e+06     -5.012      0.000   -3.13e+07   -1.37e+07\n",
      "Winter                 -1.022e+07   4.93e+06     -2.072      0.038   -1.99e+07   -5.52e+05\n",
      "Rating_RT               1.124e+06   1.78e+05      6.319      0.000    7.75e+05    1.47e+06\n",
      "Rating_IMDB             1.095e+07   2.73e+06      4.012      0.000     5.6e+06    1.63e+07\n",
      "Rating_Metacritic      -8.401e+05   2.54e+05     -3.308      0.001   -1.34e+06   -3.42e+05\n",
      "isCollection            1.139e+08   5.33e+06     21.382      0.000    1.03e+08    1.24e+08\n",
      "Length                  1.925e+05   1.42e+05      1.359      0.174   -8.51e+04     4.7e+05\n",
      "Genre_Drama            -2.371e+07   4.74e+06     -5.001      0.000    -3.3e+07   -1.44e+07\n",
      "Genre_Comedy           -1.206e+06   4.62e+06     -0.261      0.794   -1.03e+07    7.85e+06\n",
      "Genre_Action_Adventure -7.328e+06   4.69e+06     -1.563      0.118   -1.65e+07    1.86e+06\n",
      "Genre_Thriller_Horror   3.732e+06   5.15e+06      0.725      0.468   -6.36e+06    1.38e+07\n",
      "Genre_Romance           1.166e+07   4.86e+06      2.400      0.016    2.14e+06    2.12e+07\n",
      "Genre_Crime_Mystery    -2.826e+06   4.82e+06     -0.586      0.558   -1.23e+07    6.63e+06\n",
      "Genre_Animation         2.543e+07   9.91e+06      2.565      0.010    5.99e+06    4.49e+07\n",
      "Genre_Scifi            -1.492e+07   6.31e+06     -2.366      0.018   -2.73e+07   -2.56e+06\n",
      "Genre_Documentary      -1.599e+07   1.19e+07     -1.343      0.179   -3.93e+07    7.35e+06\n",
      "Genre_Other            -1.643e+07    4.4e+06     -3.735      0.000    -2.5e+07    -7.8e+06\n",
      "Rated_G_PG             -1.407e+07   6.13e+06     -2.297      0.022   -2.61e+07   -2.06e+06\n",
      "Rated_PG-13            -2.802e+06   4.94e+06     -0.567      0.571   -1.25e+07    6.89e+06\n",
      "Rated_R                    -3e+07   4.95e+06     -6.055      0.000   -3.97e+07   -2.03e+07\n",
      "Rated_Other            -1.595e+07   6.98e+06     -2.285      0.022   -2.96e+07   -2.27e+06\n",
      "Comp_Disney             3.335e+07   1.04e+07      3.200      0.001    1.29e+07    5.38e+07\n",
      "Comp_DreamWorks        -1.083e+07   1.15e+07     -0.946      0.344   -3.33e+07    1.16e+07\n",
      "Comp_Fox                1.647e+07   6.78e+06      2.428      0.015    3.17e+06    2.98e+07\n",
      "Comp_Lionsgate          -2.38e+06   7.37e+06     -0.323      0.747   -1.68e+07    1.21e+07\n",
      "Comp_MGM               -3.133e+07   1.04e+07     -3.026      0.002   -5.16e+07    -1.1e+07\n",
      "Comp_Miramax           -3.062e+07   1.03e+07     -2.973      0.003   -5.08e+07   -1.04e+07\n",
      "Comp_Paramount         -9.196e+06    7.8e+06     -1.179      0.238   -2.45e+07    6.09e+06\n",
      "Comp_Sony              -1.175e+07   6.03e+06     -1.950      0.051   -2.36e+07    6.54e+04\n",
      "Comp_Universal         -5.571e+05   6.55e+06     -0.085      0.932   -1.34e+07    1.23e+07\n",
      "Comp_WarnerBros        -1.422e+07   6.15e+06     -2.313      0.021   -2.63e+07   -2.17e+06\n",
      "Comp_Other             -1.862e+07    5.9e+06     -3.156      0.002   -3.02e+07   -7.05e+06\n",
      "Revenue_Actor_Real         0.0024      0.001      4.003      0.000       0.001       0.004\n",
      "Revenue_Director_Real      0.0068      0.003      2.036      0.042       0.000       0.013\n",
      "Revenue_Writer_Real        0.0119      0.001     11.452      0.000       0.010       0.014\n",
      "Nominated_Major         2.307e+07   3.11e+06      7.412      0.000     1.7e+07    2.92e+07\n",
      "Nominated_Minor        -1.198e+05   1.54e+05     -0.777      0.437   -4.22e+05    1.83e+05\n",
      "Won_Major               7.653e+07   5.52e+06     13.865      0.000    6.57e+07    8.73e+07\n",
      "Won_Minor                6.16e+05   2.65e+05      2.327      0.020    9.71e+04    1.13e+06\n",
      "==============================================================================\n",
      "Omnibus:                     3806.544   Durbin-Watson:                   2.013\n",
      "Prob(Omnibus):                  0.000   Jarque-Bera (JB):           371778.555\n",
      "Skew:                           3.611   Prob(JB):                         0.00\n",
      "Kurtosis:                      47.377   Cond. No.                     3.53e+17\n",
      "==============================================================================\n",
      "\n",
      "Warnings:\n",
      "[1] Standard Errors assume that the covariance matrix of the errors is correctly specified.\n",
      "[2] The smallest eigenvalue is 8.22e-13. This might indicate that there are\n",
      "strong multicollinearity problems or that the design matrix is singular.\n"
     ]
    }
   ],
   "source": [
    "results = model.fit()\n",
    "print(results.summary())"
   ]
  },
  {
   "cell_type": "code",
   "execution_count": 6,
   "metadata": {},
   "outputs": [
    {
     "data": {
      "text/plain": [
       "[<matplotlib.lines.Line2D at 0x4544e44be0>]"
      ]
     },
     "execution_count": 6,
     "metadata": {},
     "output_type": "execute_result"
    },
    {
     "data": {
      "image/png": "[encoded data removed]",
      "text/plain": [
       "<matplotlib.figure.Figure at 0x4546bbc6d8>"
      ]
     },
     "metadata": {},
     "output_type": "display_data"
    }
   ],
   "source": [
    "%matplotlib inline\n",
    "plt.plot(results.fittedvalues)#, test['Revenue_Real'])\n",
    "plt.plot(test['Revenue_Real'])"
   ]
  },
  {
   "cell_type": "markdown",
   "metadata": {},
   "source": [
    "### Experiment with logged values of revenue and budget\n"
   ]
  },
  {
   "cell_type": "code",
   "execution_count": 7,
   "metadata": {},
   "outputs": [],
   "source": [
    "model = sm.OLS((test['Revenue_Real_Log']), test[['constant', \"Budget_Real_Log\", \"Holiday\", \"Summer\", \"Spring\", \"Fall\", \"Winter\",\n",
    "'Rating_RT', 'Rating_IMDB', 'Rating_Metacritic','isCollection','Length',\n",
    "'Genre_Drama', 'Genre_Comedy', 'Genre_Action_Adventure', 'Genre_Thriller_Horror',\n",
    " 'Genre_Romance', 'Genre_Crime_Mystery', 'Genre_Animation', 'Genre_Scifi',\n",
    " 'Genre_Documentary', 'Genre_Other',\n",
    "'Rated_G_PG', 'Rated_PG-13', 'Rated_R', 'Rated_Other',\n",
    "'Comp_Disney','Comp_DreamWorks', 'Comp_Fox', 'Comp_Lionsgate',\n",
    " 'Comp_MGM', 'Comp_Miramax', 'Comp_Paramount', 'Comp_Sony',\n",
    " 'Comp_Universal', 'Comp_WarnerBros', 'Comp_Other',  \n",
    "'Nominated_Major','Nominated_Minor', 'Won_Major', 'Won_Minor']])"
   ]
  },
  {
   "cell_type": "code",
   "execution_count": 8,
   "metadata": {},
   "outputs": [
    {
     "name": "stdout",
     "output_type": "stream",
     "text": [
      "                            OLS Regression Results                            \n",
      "==============================================================================\n",
      "Dep. Variable:       Revenue_Real_Log   R-squared:                       0.646\n",
      "Model:                            OLS   Adj. R-squared:                  0.643\n",
      "Method:                 Least Squares   F-statistic:                     209.8\n",
      "Date:                Sat, 18 Aug 2018   Prob (F-statistic):               0.00\n",
      "Time:                        17:53:20   Log-Likelihood:                -8596.5\n",
      "No. Observations:                4414   AIC:                         1.727e+04\n",
      "Df Residuals:                    4375   BIC:                         1.752e+04\n",
      "Df Model:                          38                                         \n",
      "Covariance Type:            nonrobust                                         \n",
      "==========================================================================================\n",
      "                             coef    std err          t      P>|t|      [0.025      0.975]\n",
      "------------------------------------------------------------------------------------------\n",
      "constant                   0.4443      0.241      1.844      0.065      -0.028       0.917\n",
      "Budget_Real_Log            0.7298      0.018     39.543      0.000       0.694       0.766\n",
      "Holiday                    0.0294      0.079      0.373      0.709      -0.125       0.184\n",
      "Summer                     0.1051      0.066      1.604      0.109      -0.023       0.233\n",
      "Spring                     0.1338      0.073      1.833      0.067      -0.009       0.277\n",
      "Fall                      -0.0456      0.070     -0.654      0.513      -0.182       0.091\n",
      "Winter                     0.2216      0.076      2.920      0.004       0.073       0.370\n",
      "Rating_RT                  0.0044      0.003      1.723      0.085      -0.001       0.009\n",
      "Rating_IMDB                0.2217      0.039      5.670      0.000       0.145       0.298\n",
      "Rating_Metacritic          0.0035      0.004      0.960      0.337      -0.004       0.011\n",
      "isCollection               1.0025      0.075     13.376      0.000       0.856       1.149\n",
      "Length                     0.0091      0.002      4.643      0.000       0.005       0.013\n",
      "Genre_Drama               -0.5257      0.067     -7.797      0.000      -0.658      -0.394\n",
      "Genre_Comedy               0.1962      0.066      2.959      0.003       0.066       0.326\n",
      "Genre_Action_Adventure     0.0312      0.066      0.477      0.634      -0.097       0.160\n",
      "Genre_Thriller_Horror      0.2918      0.074      3.951      0.000       0.147       0.437\n",
      "Genre_Romance              0.2194      0.070      3.153      0.002       0.083       0.356\n",
      "Genre_Crime_Mystery        0.1417      0.069      2.047      0.041       0.006       0.277\n",
      "Genre_Animation            0.1332      0.141      0.943      0.346      -0.144       0.410\n",
      "Genre_Scifi               -0.2425      0.090     -2.698      0.007      -0.419      -0.066\n",
      "Genre_Documentary         -0.0023      0.172     -0.013      0.990      -0.340       0.335\n",
      "Genre_Other               -0.0101      0.063     -0.160      0.873      -0.134       0.114\n",
      "Rated_G_PG                 0.7216      0.099      7.281      0.000       0.527       0.916\n",
      "Rated_PG-13                0.6543      0.085      7.710      0.000       0.488       0.821\n",
      "Rated_R                   -0.0830      0.079     -1.047      0.295      -0.238       0.072\n",
      "Rated_Other               -0.8487      0.101     -8.397      0.000      -1.047      -0.651\n",
      "Comp_Disney                0.9122      0.143      6.394      0.000       0.632       1.192\n",
      "Comp_DreamWorks            0.5557      0.163      3.400      0.001       0.235       0.876\n",
      "Comp_Fox                   1.2316      0.098     12.605      0.000       1.040       1.423\n",
      "Comp_Lionsgate             0.8577      0.106      8.114      0.000       0.650       1.065\n",
      "Comp_MGM                   0.5538      0.149      3.720      0.000       0.262       0.846\n",
      "Comp_Miramax               0.7791      0.148      5.262      0.000       0.489       1.069\n",
      "Comp_Paramount             1.1115      0.112      9.947      0.000       0.892       1.331\n",
      "Comp_Sony                  0.9812      0.087     11.332      0.000       0.811       1.151\n",
      "Comp_Universal             1.2225      0.095     12.924      0.000       1.037       1.408\n",
      "Comp_WarnerBros            1.0982      0.088     12.482      0.000       0.926       1.271\n",
      "Comp_Other                -0.0448      0.084     -0.531      0.595      -0.210       0.120\n",
      "Nominated_Major            0.0708      0.045      1.587      0.113      -0.017       0.158\n",
      "Nominated_Minor            0.0085      0.002      3.913      0.000       0.004       0.013\n",
      "Won_Major                 -0.0552      0.079     -0.700      0.484      -0.210       0.099\n",
      "Won_Minor                  0.0049      0.004      1.296      0.195      -0.003       0.012\n",
      "==============================================================================\n",
      "Omnibus:                      825.194   Durbin-Watson:                   1.981\n",
      "Prob(Omnibus):                  0.000   Jarque-Bera (JB):             3665.624\n",
      "Skew:                          -0.845   Prob(JB):                         0.00\n",
      "Kurtosis:                       7.132   Cond. No.                     9.34e+16\n",
      "==============================================================================\n",
      "\n",
      "Warnings:\n",
      "[1] Standard Errors assume that the covariance matrix of the errors is correctly specified.\n",
      "[2] The smallest eigenvalue is 8.94e-27. This might indicate that there are\n",
      "strong multicollinearity problems or that the design matrix is singular.\n"
     ]
    }
   ],
   "source": [
    "results = model.fit()\n",
    "print(results.summary())"
   ]
  },
  {
   "cell_type": "code",
   "execution_count": 10,
   "metadata": {},
   "outputs": [
    {
     "data": {
      "text/plain": [
       "[<matplotlib.lines.Line2D at 0x4544d8d588>]"
      ]
     },
     "execution_count": 10,
     "metadata": {},
     "output_type": "execute_result"
    },
    {
     "data": {
      "image/png": "[encoded data removed]",
      "text/plain": [
       "<matplotlib.figure.Figure at 0x45467685f8>"
      ]
     },
     "metadata": {},
     "output_type": "display_data"
    }
   ],
   "source": [
    "%matplotlib inline\n",
    "plt.plot(results.fittedvalues)\n",
    "plt.plot(test['Revenue_Real_Log'])"
   ]
  },
  {
   "cell_type": "code",
   "execution_count": 12,
   "metadata": {},
   "outputs": [
    {
     "data": {
      "text/plain": [
       "-1035752941117.4078"
      ]
     },
     "execution_count": 12,
     "metadata": {},
     "output_type": "execute_result"
    }
   ],
   "source": [
    "X = test[[\"Budget_Real\", \"Holiday\", \"Summer\", \"Spring\", \"Fall\", \"Winter\",\n",
    "'Rating_RT', 'Rating_IMDB', 'Rating_Metacritic','isCollection','Length',\n",
    "'Genre_Drama', 'Genre_Comedy', 'Genre_Action_Adventure', 'Genre_Thriller_Horror',\n",
    " 'Genre_Romance', 'Genre_Crime_Mystery', 'Genre_Animation', 'Genre_Scifi',\n",
    " 'Genre_Documentary', 'Genre_Other',\n",
    "'Rated_G_PG', 'Rated_PG-13', 'Rated_R', 'Rated_Other',\n",
    "'Comp_Disney','Comp_DreamWorks', 'Comp_Fox', 'Comp_Lionsgate',\n",
    " 'Comp_MGM', 'Comp_Miramax', 'Comp_Paramount', 'Comp_Sony',\n",
    " 'Comp_Universal', 'Comp_WarnerBros', 'Comp_Other',  \n",
    "'Revenue_Actor_Real','Revenue_Director_Real', 'Revenue_Writer_Real',\n",
    "'Nominated_Major','Nominated_Minor', 'Won_Major', 'Won_Minor'\n",
    "]]\n",
    "y = test[\"Revenue_Real\"]\n",
    "seed=3\n",
    "X_train, X_test, y_train, y_test = cross_validation.train_test_split(X, y, test_size = 0.2, random_state=seed)\n",
    "\n",
    "#model = Lasso()\n",
    "model = RidgeCV()\n",
    "results=model.fit(X, y)\n",
    "#print(list(zip(features, model.coef_.tolist())))\n",
    "model.score(X, y)  #0.646\n",
    "\n",
    "#model = Ridge()\n",
    "#model.fit(X_train, y_train)\n",
    "#expected  = y_test\n",
    "#predicted = model.predict(X_test)\n",
    "#print(f1_score(expected, predicted, average=None))\n",
    "\n",
    "#oz = ClassificationReport(model, support=True)\n",
    "#oz.fit(X_train, y_train)\n",
    "#oz.score(X_test, y_test)\n",
    "#oz.poof()"
   ]
  },
  {
   "cell_type": "code",
   "execution_count": 13,
   "metadata": {},
   "outputs": [
    {
     "data": {
      "text/plain": [
       "0.6926544413909501"
      ]
     },
     "execution_count": 13,
     "metadata": {},
     "output_type": "execute_result"
    }
   ],
   "source": [
    "\n",
    "X = test[[\"Budget_Real\", \"Holiday\", \"Summer\", \"Spring\", \"Fall\", \"Winter\",\n",
    "'Rating_RT', 'Rating_IMDB', 'Rating_Metacritic','isCollection','Length',\n",
    "'Genre_Drama', 'Genre_Comedy', 'Genre_Action_Adventure', 'Genre_Thriller_Horror',\n",
    " 'Genre_Romance', 'Genre_Crime_Mystery', 'Genre_Animation', 'Genre_Scifi',\n",
    " 'Genre_Documentary', 'Genre_Other',\n",
    "'Rated_G_PG', 'Rated_PG-13', 'Rated_R', 'Rated_Other',\n",
    "'Comp_Disney','Comp_DreamWorks', 'Comp_Fox', 'Comp_Lionsgate',\n",
    " 'Comp_MGM', 'Comp_Miramax', 'Comp_Paramount', 'Comp_Sony',\n",
    " 'Comp_Universal', 'Comp_WarnerBros', 'Comp_Other',  \n",
    "'Revenue_Actor_Real','Revenue_Director_Real', 'Revenue_Writer_Real',\n",
    "'Nominated_Major','Nominated_Minor', 'Won_Major', 'Won_Minor'\n",
    "]]\n",
    "y = test[\"Revenue_Real\"]\n",
    "\n",
    "rf = LinearRegression() \n",
    "rf.fit(X, y)\n",
    "rf.score(X, y)\n"
   ]
  },
  {
   "cell_type": "markdown",
   "metadata": {},
   "source": [
    "# Classification Models\n",
    "\n",
    "We can also try to develop classes of movies in order to use classification models.  So, this section will look at whether we can predict movie profitability.  We will use a feature we created during the pre-processing step: \"Profit_Bucket\", which indicates whether a movie made less than its budget, same as its budget, twice its budget, three times, etc.  The classes are: <1x, [1-2x), [2-3x), [3-4x), [4-5x), and >=5x.  \n",
    "\n",
    "In addition, we will create an additional feature called \"Profit_Bucket_Binary\" which will equal a 1 if the movie made at least twice its budget, and 0 if not.  We chose this threshold because in some of the literature regarding movie profitability, a rule-of-thumb some people follow is a movie likely makes a profit if it makes at least twice its production budget.  This is due to the extra costs of marketing, distribution, and other expenses.\n",
    "\n",
    "The lines of code to run these models were from some labs we did in Dr. Bari's class and Dr. Bengfort's class."
   ]
  },
  {
   "cell_type": "markdown",
   "metadata": {},
   "source": [
    "### Create Profit Bucket Binary variable and set (X, y) train and test sets\n",
    "\n",
    "We will create the new feature \"Profit_Bucket_Binary\", convert any \"nan\" in the historical cast/crew revenue columns to 0, and set the train and test sets that we will use for all the classification model testing. "
   ]
  },
  {
   "cell_type": "code",
   "execution_count": 4,
   "metadata": {},
   "outputs": [
    {
     "name": "stderr",
     "output_type": "stream",
     "text": [
      "C:\\Users\\Rebecca\\Anaconda3\\lib\\site-packages\\ipykernel_launcher.py:10: SettingWithCopyWarning: \n",
      "A value is trying to be set on a copy of a slice from a DataFrame.\n",
      "Try using .loc[row_indexer,col_indexer] = value instead\n",
      "\n",
      "See the caveats in the documentation: http://pandas.pydata.org/pandas-docs/stable/indexing.html#indexing-view-versus-copy\n",
      "  # Remove the CWD from sys.path while we load stuff.\n",
      "C:\\Users\\Rebecca\\Anaconda3\\lib\\site-packages\\ipykernel_launcher.py:13: SettingWithCopyWarning: \n",
      "A value is trying to be set on a copy of a slice from a DataFrame.\n",
      "Try using .loc[row_indexer,col_indexer] = value instead\n",
      "\n",
      "See the caveats in the documentation: http://pandas.pydata.org/pandas-docs/stable/indexing.html#indexing-view-versus-copy\n",
      "  del sys.path[0]\n",
      "C:\\Users\\Rebecca\\Anaconda3\\lib\\site-packages\\ipykernel_launcher.py:14: SettingWithCopyWarning: \n",
      "A value is trying to be set on a copy of a slice from a DataFrame.\n",
      "Try using .loc[row_indexer,col_indexer] = value instead\n",
      "\n",
      "See the caveats in the documentation: http://pandas.pydata.org/pandas-docs/stable/indexing.html#indexing-view-versus-copy\n",
      "  \n",
      "C:\\Users\\Rebecca\\Anaconda3\\lib\\site-packages\\ipykernel_launcher.py:15: SettingWithCopyWarning: \n",
      "A value is trying to be set on a copy of a slice from a DataFrame.\n",
      "Try using .loc[row_indexer,col_indexer] = value instead\n",
      "\n",
      "See the caveats in the documentation: http://pandas.pydata.org/pandas-docs/stable/indexing.html#indexing-view-versus-copy\n",
      "  from ipykernel import kernelapp as app\n"
     ]
    }
   ],
   "source": [
    "#Limit dataset to those with filled in Revenue, Budget, and Length columns.  Based on what I've seen, this helps to\n",
    "#get rid of remaining duplicates in dataset.  Also helps to narrow down dataset to test profitability, where we\n",
    "#need both revenue and budget filled in.  We could experiment with movies with revenue greater than $100,000, if \n",
    "#we choose to.\n",
    "test = movies[(movies['Revenue_Real']>0)&(movies['Budget_Real']>0)&(movies['Length']>0)]\n",
    "\n",
    "#Make binary variable for if movie made at least 2x budget\n",
    "test['Profit_Bucket_Binary']=np.where(test['Profit_Bucket']=='<1x', 0, np.where(test['Profit_Bucket']=='[1-2x)', \n",
    "                        0, np.where(test['Profit_Bucket']=='[2-3x)', 1, np.where(test['Profit_Bucket']=='[3-4x)', \n",
    "                        1, np.where(test['Profit_Bucket']=='[4-5x)', 1, np.where(test['Profit_Bucket']=='>=5x', 1, ''))))))\n",
    "\n",
    "#Put zero where null\n",
    "test['Revenue_Actor_Real']=movies['Revenue_Actor_Real'].apply(lambda x: 0 if pd.isnull(x) else x)\n",
    "test['Revenue_Director_Real']=movies['Revenue_Director_Real'].apply(lambda x: 0 if pd.isnull(x) else x)\n",
    "test['Revenue_Writer_Real']=movies['Revenue_Writer_Real'].apply(lambda x: 0 if pd.isnull(x) else x)\n"
   ]
  },
  {
   "cell_type": "code",
   "execution_count": 5,
   "metadata": {
    "scrolled": true
   },
   "outputs": [
    {
     "name": "stdout",
     "output_type": "stream",
     "text": [
      "0    2539\n",
      "1    1875\n",
      "Name: Profit_Bucket_Binary, dtype: int64\n"
     ]
    },
    {
     "data": {
      "text/plain": [
       "<matplotlib.axes._subplots.AxesSubplot at 0x6f99c5c780>"
      ]
     },
     "execution_count": 5,
     "metadata": {},
     "output_type": "execute_result"
    },
    {
     "data": {
      "image/png": "[encoded data removed]",
      "text/plain": [
       "<matplotlib.figure.Figure at 0x6f971a7f60>"
      ]
     },
     "metadata": {},
     "output_type": "display_data"
    }
   ],
   "source": [
    "#Show distribution of profit bucket binary\n",
    "print(test['Profit_Bucket_Binary'].value_counts())\n",
    "test['Profit_Bucket_Binary'].value_counts().plot(kind='barh')"
   ]
  },
  {
   "cell_type": "code",
   "execution_count": 6,
   "metadata": {},
   "outputs": [],
   "source": [
    "#Set X, y\n",
    "X = test[[\"Budget_Real\", \"Holiday\", \"Summer\", \"Spring\", \"Fall\", \"Winter\",\n",
    "'Rating_RT', 'Rating_IMDB', 'Rating_Metacritic','isCollection','Length',\n",
    "'Genre_Drama', 'Genre_Comedy', 'Genre_Action_Adventure', 'Genre_Thriller_Horror',\n",
    " 'Genre_Romance', 'Genre_Crime_Mystery', 'Genre_Animation', 'Genre_Scifi',\n",
    " 'Genre_Documentary', 'Genre_Other',\n",
    "'Rated_G_PG', 'Rated_PG-13', 'Rated_R', 'Rated_Other',\n",
    "'Comp_Disney','Comp_DreamWorks', 'Comp_Fox', 'Comp_Lionsgate',\n",
    " 'Comp_MGM', 'Comp_Miramax', 'Comp_Paramount', 'Comp_Sony',\n",
    " 'Comp_Universal', 'Comp_WarnerBros', 'Comp_Other',  \n",
    "'Revenue_Actor_Real','Revenue_Director_Real', 'Revenue_Writer_Real',\n",
    "'Nominated_Major','Nominated_Minor', 'Won_Major', 'Won_Minor'\n",
    "]]\n",
    "y = test[\"Profit_Bucket_Binary\"]\n",
    "\n",
    "# Next split up the data with the 'train test split' method in the Cross Validation module\n",
    "seed=3\n",
    "X_train, X_test, y_train, y_test = cross_validation.train_test_split(X, y, test_size = 0.2, random_state=seed)"
   ]
  },
  {
   "cell_type": "code",
   "execution_count": 7,
   "metadata": {},
   "outputs": [],
   "source": [
    "classifiers = [\n",
    "    RandomForestClassifier(n_estimators=50, oob_score=True),\n",
    "    #SVC(kernel='linear'),\n",
    "    #SVC(kernel='rbf'),\n",
    "    #SVC(kernel='poly', degree=3),\n",
    "    LogisticRegression(random_state=1),\n",
    "    XGBClassifier(), \n",
    "    BaggingClassifier(), \n",
    "    ExtraTreesClassifier(),\n",
    "    AdaBoostClassifier(),\n",
    "    GradientBoostingClassifier(),\n",
    "    SGDClassifier(),\n",
    "    KNeighborsClassifier()]"
   ]
  },
  {
   "cell_type": "code",
   "execution_count": 8,
   "metadata": {
    "scrolled": false
   },
   "outputs": [
    {
     "name": "stdout",
     "output_type": "stream",
     "text": [
      "RandomForestClassifier [0.78584392 0.64457831]\n"
     ]
    },
    {
     "data": {
      "image/png": "[encoded data removed]",
      "text/plain": [
       "<matplotlib.figure.Figure at 0x6f9855f0b8>"
      ]
     },
     "metadata": {},
     "output_type": "display_data"
    },
    {
     "name": "stdout",
     "output_type": "stream",
     "text": [
      "LogisticRegression [0.71319149 0.42978003]\n"
     ]
    },
    {
     "data": {
      "image/png": "[encoded data removed]",
      "text/plain": [
       "<matplotlib.figure.Figure at 0x6f9870d7f0>"
      ]
     },
     "metadata": {},
     "output_type": "display_data"
    },
    {
     "name": "stderr",
     "output_type": "stream",
     "text": [
      "C:\\Users\\Rebecca\\Anaconda3\\lib\\site-packages\\sklearn\\preprocessing\\label.py:151: DeprecationWarning: The truth value of an empty array is ambiguous. Returning False, but in future this will result in an error. Use `array.size > 0` to check that an array is not empty.\n",
      "  if diff:\n"
     ]
    },
    {
     "name": "stdout",
     "output_type": "stream",
     "text": [
      "XGBClassifier [0.8        0.67362146]\n"
     ]
    },
    {
     "name": "stderr",
     "output_type": "stream",
     "text": [
      "C:\\Users\\Rebecca\\Anaconda3\\lib\\site-packages\\sklearn\\preprocessing\\label.py:151: DeprecationWarning: The truth value of an empty array is ambiguous. Returning False, but in future this will result in an error. Use `array.size > 0` to check that an array is not empty.\n",
      "  if diff:\n"
     ]
    },
    {
     "data": {
      "image/png": "[encoded data removed]",
      "text/plain": [
       "<matplotlib.figure.Figure at 0x6f9827b0f0>"
      ]
     },
     "metadata": {},
     "output_type": "display_data"
    },
    {
     "name": "stdout",
     "output_type": "stream",
     "text": [
      "BaggingClassifier [0.76470588 0.59006211]\n"
     ]
    },
    {
     "data": {
      "image/png": "[encoded data removed]",
      "text/plain": [
       "<matplotlib.figure.Figure at 0x6f97fdf3c8>"
      ]
     },
     "metadata": {},
     "output_type": "display_data"
    },
    {
     "name": "stdout",
     "output_type": "stream",
     "text": [
      "ExtraTreesClassifier [0.7712766  0.59561129]\n"
     ]
    },
    {
     "data": {
      "image/png": "[encoded data removed]",
      "text/plain": [
       "<matplotlib.figure.Figure at 0x6f9a075be0>"
      ]
     },
     "metadata": {},
     "output_type": "display_data"
    },
    {
     "name": "stdout",
     "output_type": "stream",
     "text": [
      "BaggingClassifier [0.77837838 0.625     ]\n"
     ]
    },
    {
     "data": {
      "image/png": "[encoded data removed]",
      "text/plain": [
       "<matplotlib.figure.Figure at 0x6f9af3dba8>"
      ]
     },
     "metadata": {},
     "output_type": "display_data"
    },
    {
     "name": "stderr",
     "output_type": "stream",
     "text": [
      "C:\\Users\\Rebecca\\Anaconda3\\lib\\site-packages\\sklearn\\linear_model\\stochastic_gradient.py:128: FutureWarning: max_iter and tol parameters have been added in <class 'sklearn.linear_model.stochastic_gradient.SGDClassifier'> in 0.19. If both are left unset, they default to max_iter=5 and tol=None. If tol is not None, max_iter defaults to max_iter=1000. From 0.21, default max_iter will be 1000, and default tol will be 1e-3.\n",
      "  \"and default tol will be 1e-3.\" % type(self), FutureWarning)\n"
     ]
    },
    {
     "name": "stdout",
     "output_type": "stream",
     "text": [
      "SGDClassifier [0.34243176 0.44791667]\n"
     ]
    },
    {
     "data": {
      "image/png": "[encoded data removed]",
      "text/plain": [
       "<matplotlib.figure.Figure at 0x6f9af94be0>"
      ]
     },
     "metadata": {},
     "output_type": "display_data"
    },
    {
     "name": "stdout",
     "output_type": "stream",
     "text": [
      "KNeighborsClassifier [0.64689527 0.44541485]\n"
     ]
    },
    {
     "data": {
      "image/png": "[encoded data removed]",
      "text/plain": [
       "<matplotlib.figure.Figure at 0x6f9b08cbe0>"
      ]
     },
     "metadata": {},
     "output_type": "display_data"
    }
   ],
   "source": [
    "for clf in classifiers:\n",
    "    clf.fit(X_train, y_train)\n",
    "    name = clf.__class__.__name__\n",
    "    expected = y_test\n",
    "    predicted = clf.predict(X_test)\n",
    "    print(name, (f1_score(expected, predicted, average=None)))\n",
    "    \n",
    "    oz = ClassificationReport(clf, support=True)\n",
    "    oz.fit(X_train, y_train)\n",
    "    oz.score(X_test, y_test)\n",
    "    oz.poof()\n",
    "    "
   ]
  },
  {
   "cell_type": "code",
   "execution_count": null,
   "metadata": {},
   "outputs": [],
   "source": []
  },
  {
   "cell_type": "code",
   "execution_count": null,
   "metadata": {},
   "outputs": [],
   "source": []
  },
  {
   "cell_type": "code",
   "execution_count": null,
   "metadata": {},
   "outputs": [],
   "source": []
  },
  {
   "cell_type": "code",
   "execution_count": null,
   "metadata": {},
   "outputs": [],
   "source": []
  },
  {
   "cell_type": "markdown",
   "metadata": {},
   "source": [
    "### Random Forests\n",
    "\n",
    "We will start with Random Forests to see how well it predicts both \"Profit_Bucket\" and \"Profit_Bucket_Binary\""
   ]
  },
  {
   "cell_type": "code",
   "execution_count": 72,
   "metadata": {},
   "outputs": [
    {
     "name": "stdout",
     "output_type": "stream",
     "text": [
      "[0.78363636 0.64264264]\n"
     ]
    },
    {
     "data": {
      "image/png": "[encoded data removed]",
      "text/plain": [
       "<matplotlib.figure.Figure at 0x454893f630>"
      ]
     },
     "metadata": {},
     "output_type": "display_data"
    }
   ],
   "source": [
    "rf = RandomForestClassifier(n_estimators=50, oob_score=True) \n",
    "rf.fit(X_train, y_train)\n",
    "#print(rf.score(X_test, y_test))\n",
    "expected  = y_test\n",
    "predicted = rf.predict(X_test)\n",
    "print(f1_score(expected, predicted, average=None))\n",
    "\n",
    "oz = ClassificationReport(rf, support=True)\n",
    "oz.fit(X_train, y_train)\n",
    "oz.score(X_test, y_test)\n",
    "oz.poof()"
   ]
  },
  {
   "cell_type": "code",
   "execution_count": 73,
   "metadata": {},
   "outputs": [
    {
     "data": {
      "text/html": [
       "<div>\n",
       "<style scoped>\n",
       "    .dataframe tbody tr th:only-of-type {\n",
       "        vertical-align: middle;\n",
       "    }\n",
       "\n",
       "    .dataframe tbody tr th {\n",
       "        vertical-align: top;\n",
       "    }\n",
       "\n",
       "    .dataframe thead th {\n",
       "        text-align: right;\n",
       "    }\n",
       "</style>\n",
       "<table border=\"1\" class=\"dataframe\">\n",
       "  <thead>\n",
       "    <tr style=\"text-align: right;\">\n",
       "      <th></th>\n",
       "      <th>importance</th>\n",
       "    </tr>\n",
       "  </thead>\n",
       "  <tbody>\n",
       "    <tr>\n",
       "      <th>Nominated_Minor</th>\n",
       "      <td>0.089279</td>\n",
       "    </tr>\n",
       "    <tr>\n",
       "      <th>Budget_Real</th>\n",
       "      <td>0.080053</td>\n",
       "    </tr>\n",
       "    <tr>\n",
       "      <th>Rating_IMDB</th>\n",
       "      <td>0.067737</td>\n",
       "    </tr>\n",
       "    <tr>\n",
       "      <th>Rating_Metacritic</th>\n",
       "      <td>0.065285</td>\n",
       "    </tr>\n",
       "    <tr>\n",
       "      <th>Rating_RT</th>\n",
       "      <td>0.064933</td>\n",
       "    </tr>\n",
       "    <tr>\n",
       "      <th>Length</th>\n",
       "      <td>0.063636</td>\n",
       "    </tr>\n",
       "    <tr>\n",
       "      <th>Revenue_Actor_Real</th>\n",
       "      <td>0.063151</td>\n",
       "    </tr>\n",
       "    <tr>\n",
       "      <th>Won_Minor</th>\n",
       "      <td>0.062561</td>\n",
       "    </tr>\n",
       "    <tr>\n",
       "      <th>Revenue_Writer_Real</th>\n",
       "      <td>0.061560</td>\n",
       "    </tr>\n",
       "    <tr>\n",
       "      <th>isCollection</th>\n",
       "      <td>0.054991</td>\n",
       "    </tr>\n",
       "  </tbody>\n",
       "</table>\n",
       "</div>"
      ],
      "text/plain": [
       "                     importance\n",
       "Nominated_Minor        0.089279\n",
       "Budget_Real            0.080053\n",
       "Rating_IMDB            0.067737\n",
       "Rating_Metacritic      0.065285\n",
       "Rating_RT              0.064933\n",
       "Length                 0.063636\n",
       "Revenue_Actor_Real     0.063151\n",
       "Won_Minor              0.062561\n",
       "Revenue_Writer_Real    0.061560\n",
       "isCollection           0.054991"
      ]
     },
     "execution_count": 73,
     "metadata": {},
     "output_type": "execute_result"
    }
   ],
   "source": [
    "#Got this code to determine most important feature from here:\n",
    "#https://towardsdatascience.com/running-random-forests-inspect-the-feature-importances-with-this-code-2b00dd72b92e\n",
    "feature_importances = pd.DataFrame(rf.feature_importances_,\n",
    "   index = X_train.columns,columns=['importance']).sort_values('importance',\n",
    "    ascending=False)\n",
    "(feature_importances.head(10))"
   ]
  },
  {
   "cell_type": "markdown",
   "metadata": {},
   "source": [
    "### Support Vector Classification\n",
    "\n",
    "We will next use SVC to see how well it predicts both \"Profit_Bucket\" and \"Profit_Bucket_Binary\""
   ]
  },
  {
   "cell_type": "code",
   "execution_count": 38,
   "metadata": {
    "scrolled": false
   },
   "outputs": [
    {
     "name": "stderr",
     "output_type": "stream",
     "text": [
      "C:\\Users\\Rebecca\\Anaconda3\\lib\\site-packages\\sklearn\\metrics\\classification.py:1135: UndefinedMetricWarning: F-score is ill-defined and being set to 0.0 in labels with no predicted samples.\n",
      "  'precision', 'predicted', average, warn_for)\n"
     ]
    },
    {
     "name": "stdout",
     "output_type": "stream",
     "text": [
      "[0.74126871 0.        ]\n"
     ]
    },
    {
     "name": "stderr",
     "output_type": "stream",
     "text": [
      "C:\\Users\\Rebecca\\Anaconda3\\lib\\site-packages\\sklearn\\metrics\\classification.py:1135: UndefinedMetricWarning: Precision and F-score are ill-defined and being set to 0.0 in labels with no predicted samples.\n",
      "  'precision', 'predicted', average, warn_for)\n"
     ]
    },
    {
     "data": {
      "image/png": "[encoded data removed]",
      "text/plain": [
       "<matplotlib.figure.Figure at 0x45475b4ac8>"
      ]
     },
     "metadata": {},
     "output_type": "display_data"
    }
   ],
   "source": [
    "kernels = ['linear', 'poly', 'rbf']\n",
    "\n",
    "for kernel in kernels:\n",
    "    if kernel != 'poly':\n",
    "        model      = SVC(kernel=kernel)\n",
    "    else:\n",
    "        model      = SVC(kernel=kernel, degree=3)\n",
    "\n",
    "model.fit(X_train, y_train)\n",
    "#print(model.score(X_test, y_test))\n",
    "expected  = y_test\n",
    "predicted = model.predict(X_test)\n",
    "print(f1_score(expected, predicted, average=None))\n",
    "\n",
    "oz = ClassificationReport(model, support=True)\n",
    "oz.fit(X_train, y_train)\n",
    "oz.score(X_test, y_test)\n",
    "oz.poof()\n",
    "#SVC_report = classification_report(expected, predicted)"
   ]
  },
  {
   "cell_type": "markdown",
   "metadata": {},
   "source": [
    "### Logistic Regression\n",
    "\n",
    "We will use Logistic Regression to see how well it predicts \"Profit_Bucket_Binary\""
   ]
  },
  {
   "cell_type": "code",
   "execution_count": 37,
   "metadata": {},
   "outputs": [
    {
     "name": "stdout",
     "output_type": "stream",
     "text": [
      "[0.71319149 0.42978003]\n"
     ]
    },
    {
     "data": {
      "image/png": "[encoded data removed]",
      "text/plain": [
       "<matplotlib.figure.Figure at 0x4547528da0>"
      ]
     },
     "metadata": {},
     "output_type": "display_data"
    }
   ],
   "source": [
    "lr = LogisticRegression(random_state=1)\n",
    "log_reg = lr.fit(X_train, y_train)\n",
    "#print(log_reg.score(X_test, y_test))\n",
    "expected  = y_test\n",
    "predicted = log_reg.predict(X_test)\n",
    "print(f1_score(expected, predicted, average=None))\n",
    "\n",
    "\n",
    "oz = ClassificationReport(log_reg, support=True)\n",
    "oz.fit(X_train, y_train)\n",
    "oz.score(X_test, y_test)\n",
    "oz.poof()"
   ]
  },
  {
   "cell_type": "code",
   "execution_count": 33,
   "metadata": {},
   "outputs": [
    {
     "data": {
      "text/html": [
       "<div>\n",
       "<style scoped>\n",
       "    .dataframe tbody tr th:only-of-type {\n",
       "        vertical-align: middle;\n",
       "    }\n",
       "\n",
       "    .dataframe tbody tr th {\n",
       "        vertical-align: top;\n",
       "    }\n",
       "\n",
       "    .dataframe thead th {\n",
       "        text-align: right;\n",
       "    }\n",
       "</style>\n",
       "<table border=\"1\" class=\"dataframe\">\n",
       "  <thead>\n",
       "    <tr style=\"text-align: right;\">\n",
       "      <th></th>\n",
       "      <th>importance</th>\n",
       "    </tr>\n",
       "  </thead>\n",
       "  <tbody>\n",
       "    <tr>\n",
       "      <th>Revenue_Director_Real</th>\n",
       "      <td>2.727066e-10</td>\n",
       "    </tr>\n",
       "    <tr>\n",
       "      <th>Revenue_Writer_Real</th>\n",
       "      <td>2.514161e-10</td>\n",
       "    </tr>\n",
       "    <tr>\n",
       "      <th>Nominated_Minor</th>\n",
       "      <td>9.332844e-15</td>\n",
       "    </tr>\n",
       "    <tr>\n",
       "      <th>Won_Minor</th>\n",
       "      <td>5.214332e-15</td>\n",
       "    </tr>\n",
       "    <tr>\n",
       "      <th>isCollection</th>\n",
       "      <td>1.408737e-16</td>\n",
       "    </tr>\n",
       "    <tr>\n",
       "      <th>Nominated_Major</th>\n",
       "      <td>1.125023e-16</td>\n",
       "    </tr>\n",
       "    <tr>\n",
       "      <th>Won_Major</th>\n",
       "      <td>1.068471e-16</td>\n",
       "    </tr>\n",
       "    <tr>\n",
       "      <th>Comp_Fox</th>\n",
       "      <td>3.856409e-17</td>\n",
       "    </tr>\n",
       "    <tr>\n",
       "      <th>Comp_Disney</th>\n",
       "      <td>2.530992e-17</td>\n",
       "    </tr>\n",
       "    <tr>\n",
       "      <th>Comp_Universal</th>\n",
       "      <td>1.579809e-17</td>\n",
       "    </tr>\n",
       "  </tbody>\n",
       "</table>\n",
       "</div>"
      ],
      "text/plain": [
       "                         importance\n",
       "Revenue_Director_Real  2.727066e-10\n",
       "Revenue_Writer_Real    2.514161e-10\n",
       "Nominated_Minor        9.332844e-15\n",
       "Won_Minor              5.214332e-15\n",
       "isCollection           1.408737e-16\n",
       "Nominated_Major        1.125023e-16\n",
       "Won_Major              1.068471e-16\n",
       "Comp_Fox               3.856409e-17\n",
       "Comp_Disney            2.530992e-17\n",
       "Comp_Universal         1.579809e-17"
      ]
     },
     "execution_count": 33,
     "metadata": {},
     "output_type": "execute_result"
    }
   ],
   "source": [
    "feature_importances = pd.DataFrame(log_reg.coef_.transpose(),\n",
    "   index = X_train.columns,columns=['importance']).sort_values('importance',\n",
    "    ascending=False)\n",
    "feature_importances.abs().sort_values(by='importance', ascending=False)\n",
    "(feature_importances.head(10))"
   ]
  },
  {
   "cell_type": "markdown",
   "metadata": {},
   "source": [
    "### XGBoost\n",
    "\n",
    "We will use XGBoost to see how well it predicts both \"Profit_Bucket\" and \"Profit_Bucket_Binary\""
   ]
  },
  {
   "cell_type": "code",
   "execution_count": 47,
   "metadata": {},
   "outputs": [
    {
     "name": "stderr",
     "output_type": "stream",
     "text": [
      "C:\\Users\\Rebecca\\Anaconda3\\lib\\site-packages\\sklearn\\preprocessing\\label.py:151: DeprecationWarning: The truth value of an empty array is ambiguous. Returning False, but in future this will result in an error. Use `array.size > 0` to check that an array is not empty.\n",
      "  if diff:\n"
     ]
    },
    {
     "name": "stdout",
     "output_type": "stream",
     "text": [
      "[0.8        0.67362146]\n"
     ]
    },
    {
     "name": "stderr",
     "output_type": "stream",
     "text": [
      "C:\\Users\\Rebecca\\Anaconda3\\lib\\site-packages\\sklearn\\preprocessing\\label.py:151: DeprecationWarning: The truth value of an empty array is ambiguous. Returning False, but in future this will result in an error. Use `array.size > 0` to check that an array is not empty.\n",
      "  if diff:\n"
     ]
    },
    {
     "data": {
      "image/png": "[encoded data removed]",
      "text/plain": [
       "<matplotlib.figure.Figure at 0x4543f1a9e8>"
      ]
     },
     "metadata": {},
     "output_type": "display_data"
    }
   ],
   "source": [
    "model=XGBClassifier()\n",
    "model.fit(X_train, y_train)\n",
    "#print(model.score(X_test, y_test))\n",
    "expected  = y_test\n",
    "predicted = model.predict(X_test)\n",
    "print(f1_score(expected, predicted, average=None))\n",
    "\n",
    "oz = ClassificationReport(model, support=True)\n",
    "oz.fit(X_train, y_train)\n",
    "oz.score(X_test, y_test)\n",
    "oz.poof()"
   ]
  },
  {
   "cell_type": "code",
   "execution_count": 48,
   "metadata": {},
   "outputs": [
    {
     "data": {
      "text/html": [
       "<div>\n",
       "<style scoped>\n",
       "    .dataframe tbody tr th:only-of-type {\n",
       "        vertical-align: middle;\n",
       "    }\n",
       "\n",
       "    .dataframe tbody tr th {\n",
       "        vertical-align: top;\n",
       "    }\n",
       "\n",
       "    .dataframe thead th {\n",
       "        text-align: right;\n",
       "    }\n",
       "</style>\n",
       "<table border=\"1\" class=\"dataframe\">\n",
       "  <thead>\n",
       "    <tr style=\"text-align: right;\">\n",
       "      <th></th>\n",
       "      <th>importance</th>\n",
       "    </tr>\n",
       "  </thead>\n",
       "  <tbody>\n",
       "    <tr>\n",
       "      <th>Budget_Real</th>\n",
       "      <td>0.121029</td>\n",
       "    </tr>\n",
       "    <tr>\n",
       "      <th>Length</th>\n",
       "      <td>0.083207</td>\n",
       "    </tr>\n",
       "    <tr>\n",
       "      <th>Nominated_Minor</th>\n",
       "      <td>0.080182</td>\n",
       "    </tr>\n",
       "    <tr>\n",
       "      <th>Rating_IMDB</th>\n",
       "      <td>0.077156</td>\n",
       "    </tr>\n",
       "    <tr>\n",
       "      <th>Revenue_Actor_Real</th>\n",
       "      <td>0.068079</td>\n",
       "    </tr>\n",
       "    <tr>\n",
       "      <th>Revenue_Writer_Real</th>\n",
       "      <td>0.066566</td>\n",
       "    </tr>\n",
       "    <tr>\n",
       "      <th>isCollection</th>\n",
       "      <td>0.052950</td>\n",
       "    </tr>\n",
       "    <tr>\n",
       "      <th>Won_Minor</th>\n",
       "      <td>0.045386</td>\n",
       "    </tr>\n",
       "    <tr>\n",
       "      <th>Revenue_Director_Real</th>\n",
       "      <td>0.040847</td>\n",
       "    </tr>\n",
       "    <tr>\n",
       "      <th>Rating_RT</th>\n",
       "      <td>0.039334</td>\n",
       "    </tr>\n",
       "  </tbody>\n",
       "</table>\n",
       "</div>"
      ],
      "text/plain": [
       "                       importance\n",
       "Budget_Real              0.121029\n",
       "Length                   0.083207\n",
       "Nominated_Minor          0.080182\n",
       "Rating_IMDB              0.077156\n",
       "Revenue_Actor_Real       0.068079\n",
       "Revenue_Writer_Real      0.066566\n",
       "isCollection             0.052950\n",
       "Won_Minor                0.045386\n",
       "Revenue_Director_Real    0.040847\n",
       "Rating_RT                0.039334"
      ]
     },
     "execution_count": 48,
     "metadata": {},
     "output_type": "execute_result"
    }
   ],
   "source": [
    "feature_importances = pd.DataFrame(model.feature_importances_,\n",
    "   index = X_train.columns,columns=['importance']).sort_values('importance',\n",
    "    ascending=False)\n",
    "(feature_importances.head(10))"
   ]
  },
  {
   "cell_type": "markdown",
   "metadata": {},
   "source": [
    "### Bagging Classifier"
   ]
  },
  {
   "cell_type": "code",
   "execution_count": 49,
   "metadata": {},
   "outputs": [
    {
     "name": "stdout",
     "output_type": "stream",
     "text": [
      "[0.75651393 0.58499234]\n"
     ]
    },
    {
     "data": {
      "image/png": "[encoded data removed]",
      "text/plain": [
       "<matplotlib.figure.Figure at 0x4543f75668>"
      ]
     },
     "metadata": {},
     "output_type": "display_data"
    }
   ],
   "source": [
    "model = BaggingClassifier()\n",
    "model.fit(X_train, y_train)\n",
    "expected  = y_test\n",
    "predicted = model.predict(X_test)\n",
    "print(f1_score(expected, predicted, average=None))\n",
    "\n",
    "oz = ClassificationReport(model, support=True)\n",
    "oz.fit(X_train, y_train)\n",
    "oz.score(X_test, y_test)\n",
    "oz.poof()"
   ]
  },
  {
   "cell_type": "markdown",
   "metadata": {},
   "source": [
    "### ExtraTreesClassifier"
   ]
  },
  {
   "cell_type": "code",
   "execution_count": 50,
   "metadata": {},
   "outputs": [
    {
     "name": "stdout",
     "output_type": "stream",
     "text": [
      "[0.76825969 0.60882801]\n"
     ]
    },
    {
     "data": {
      "image/png": "[encoded data removed]",
      "text/plain": [
       "<matplotlib.figure.Figure at 0x4547675080>"
      ]
     },
     "metadata": {},
     "output_type": "display_data"
    }
   ],
   "source": [
    "model = ExtraTreesClassifier()\n",
    "model.fit(X_train, y_train)\n",
    "expected  = y_test\n",
    "predicted = model.predict(X_test)\n",
    "print(f1_score(expected, predicted, average=None))\n",
    "\n",
    "oz = ClassificationReport(model, support=True)\n",
    "oz.fit(X_train, y_train)\n",
    "oz.score(X_test, y_test)\n",
    "oz.poof()"
   ]
  },
  {
   "cell_type": "markdown",
   "metadata": {},
   "source": [
    "### AdaBoostClassifier"
   ]
  },
  {
   "cell_type": "code",
   "execution_count": 51,
   "metadata": {},
   "outputs": [
    {
     "name": "stdout",
     "output_type": "stream",
     "text": [
      "[0.77166822 0.64646465]\n"
     ]
    },
    {
     "data": {
      "image/png": "[encoded data removed]",
      "text/plain": [
       "<matplotlib.figure.Figure at 0x45440aaa90>"
      ]
     },
     "metadata": {},
     "output_type": "display_data"
    }
   ],
   "source": [
    "model = AdaBoostClassifier()\n",
    "model.fit(X_train, y_train)\n",
    "expected  = y_test\n",
    "predicted = model.predict(X_test)\n",
    "print(f1_score(expected, predicted, average=None))\n",
    "\n",
    "oz = ClassificationReport(model, support=True)\n",
    "oz.fit(X_train, y_train)\n",
    "oz.score(X_test, y_test)\n",
    "oz.poof()\n"
   ]
  },
  {
   "cell_type": "markdown",
   "metadata": {},
   "source": [
    "### SGDClassifier\n"
   ]
  },
  {
   "cell_type": "code",
   "execution_count": 52,
   "metadata": {},
   "outputs": [
    {
     "name": "stderr",
     "output_type": "stream",
     "text": [
      "C:\\Users\\Rebecca\\Anaconda3\\lib\\site-packages\\sklearn\\linear_model\\stochastic_gradient.py:128: FutureWarning: max_iter and tol parameters have been added in <class 'sklearn.linear_model.stochastic_gradient.SGDClassifier'> in 0.19. If both are left unset, they default to max_iter=5 and tol=None. If tol is not None, max_iter defaults to max_iter=1000. From 0.21, default max_iter will be 1000, and default tol will be 1e-3.\n",
      "  \"and default tol will be 1e-3.\" % type(self), FutureWarning)\n"
     ]
    },
    {
     "name": "stdout",
     "output_type": "stream",
     "text": [
      "[0.17792422 0.56945643]\n"
     ]
    },
    {
     "data": {
      "image/png": "[encoded data removed]",
      "text/plain": [
       "<matplotlib.figure.Figure at 0x4547725198>"
      ]
     },
     "metadata": {},
     "output_type": "display_data"
    }
   ],
   "source": [
    "model = SGDClassifier()\n",
    "model.fit(X_train, y_train)\n",
    "expected  = y_test\n",
    "predicted = model.predict(X_test)\n",
    "print(f1_score(expected, predicted, average=None))\n",
    "\n",
    "oz = ClassificationReport(model, support=True)\n",
    "oz.fit(X_train, y_train)\n",
    "oz.score(X_test, y_test)\n",
    "oz.poof()"
   ]
  },
  {
   "cell_type": "markdown",
   "metadata": {},
   "source": [
    "### K nearest neighbors classifier\n"
   ]
  },
  {
   "cell_type": "code",
   "execution_count": 53,
   "metadata": {
    "scrolled": true
   },
   "outputs": [
    {
     "name": "stdout",
     "output_type": "stream",
     "text": [
      "[0.64689527 0.44541485]\n"
     ]
    },
    {
     "data": {
      "image/png": "[encoded data removed]",
      "text/plain": [
       "<matplotlib.figure.Figure at 0x4547748128>"
      ]
     },
     "metadata": {},
     "output_type": "display_data"
    }
   ],
   "source": [
    "model = KNeighborsClassifier()\n",
    "model.fit(X_train, y_train)\n",
    "expected  = y_test\n",
    "predicted = model.predict(X_test)\n",
    "print(f1_score(expected, predicted, average=None))\n",
    "\n",
    "oz = ClassificationReport(model, support=True)\n",
    "oz.fit(X_train, y_train)\n",
    "oz.score(X_test, y_test)\n",
    "oz.poof()"
   ]
  },
  {
   "cell_type": "code",
   "execution_count": null,
   "metadata": {},
   "outputs": [],
   "source": []
  },
  {
   "cell_type": "code",
   "execution_count": null,
   "metadata": {},
   "outputs": [],
   "source": []
  },
  {
   "cell_type": "markdown",
   "metadata": {},
   "source": [
    "# Classification Models, part 2\n",
    "\n",
    "Let's run those same models on the original 6 classes we had in the \"Profit_Bucket\" feature to see which models can classify movies under multiple classes.  "
   ]
  },
  {
   "cell_type": "markdown",
   "metadata": {},
   "source": [
    "### Create (X, y) train and test sets using \"Profit_Bucket\" feature\n",
    "\n",
    "We set the set the train and test sets that we will use for all the classification model testing. "
   ]
  },
  {
   "cell_type": "code",
   "execution_count": 54,
   "metadata": {},
   "outputs": [
    {
     "name": "stdout",
     "output_type": "stream",
     "text": [
      "<1x       1710\n",
      "[1-2x)     829\n",
      "[2-3x)     642\n",
      ">=5x       632\n",
      "[3-4x)     354\n",
      "[4-5x)     247\n",
      "Name: Profit_Bucket, dtype: int64\n"
     ]
    },
    {
     "data": {
      "text/plain": [
       "<matplotlib.axes._subplots.AxesSubplot at 0x4543f1cac8>"
      ]
     },
     "execution_count": 54,
     "metadata": {},
     "output_type": "execute_result"
    },
    {
     "data": {
      "image/png": "[encoded data removed]",
      "text/plain": [
       "<matplotlib.figure.Figure at 0x45477c94a8>"
      ]
     },
     "metadata": {},
     "output_type": "display_data"
    }
   ],
   "source": [
    "#Show distribution of profit bucket binary\n",
    "print(test['Profit_Bucket'].value_counts())\n",
    "test['Profit_Bucket'].value_counts().plot(kind='barh')"
   ]
  },
  {
   "cell_type": "code",
   "execution_count": 56,
   "metadata": {},
   "outputs": [],
   "source": [
    "#Set X, y\n",
    "X = test[[\"Budget_Real\", \"Holiday\", \"Summer\", \"Spring\", \"Fall\", \"Winter\",\n",
    "'Rating_RT', 'Rating_IMDB', 'Rating_Metacritic','isCollection','Length',\n",
    "'Genre_Drama', 'Genre_Comedy', 'Genre_Action_Adventure', 'Genre_Thriller_Horror',\n",
    " 'Genre_Romance', 'Genre_Crime_Mystery', 'Genre_Animation', 'Genre_Scifi',\n",
    " 'Genre_Documentary', 'Genre_Other',\n",
    "'Rated_G_PG', 'Rated_PG-13', 'Rated_R', 'Rated_Other',\n",
    "'Comp_Disney','Comp_DreamWorks', 'Comp_Fox', 'Comp_Lionsgate',\n",
    " 'Comp_MGM', 'Comp_Miramax', 'Comp_Paramount', 'Comp_Sony',\n",
    " 'Comp_Universal', 'Comp_WarnerBros', 'Comp_Other',  \n",
    "'Revenue_Actor_Real','Revenue_Director_Real', 'Revenue_Writer_Real',\n",
    "'Nominated_Major','Nominated_Minor', 'Won_Major', 'Won_Minor'\n",
    "]]\n",
    "y = test[\"Profit_Bucket\"]\n",
    "\n",
    "# Next split up the data with the 'train test split' method in the Cross Validation module\n",
    "seed=3\n",
    "X_train, X_test, y_train, y_test = cross_validation.train_test_split(X, y, test_size = 0.2, random_state=seed)"
   ]
  },
  {
   "cell_type": "markdown",
   "metadata": {},
   "source": [
    "### Random Forests\n",
    "\n",
    "We will start with Random Forests to see how well it predicts both \"Profit_Bucket\" and \"Profit_Bucket_Binary\""
   ]
  },
  {
   "cell_type": "code",
   "execution_count": 57,
   "metadata": {},
   "outputs": [
    {
     "name": "stdout",
     "output_type": "stream",
     "text": [
      "[0.68197474 0.44166667 0.26755853 0.2764977  0.025      0.03389831]\n"
     ]
    },
    {
     "data": {
      "image/png": "[encoded data removed]",
      "text/plain": [
       "<matplotlib.figure.Figure at 0x454404fb38>"
      ]
     },
     "metadata": {},
     "output_type": "display_data"
    }
   ],
   "source": [
    "rf = RandomForestClassifier(n_estimators=50, oob_score=True) \n",
    "rf.fit(X_train, y_train)\n",
    "#print(rf.score(X_test, y_test))\n",
    "expected  = y_test\n",
    "predicted = rf.predict(X_test)\n",
    "print(f1_score(expected, predicted, average=None))\n",
    "\n",
    "oz = ClassificationReport(rf, support=True)\n",
    "oz.fit(X_train, y_train)\n",
    "oz.score(X_test, y_test)\n",
    "oz.poof()"
   ]
  },
  {
   "cell_type": "code",
   "execution_count": 58,
   "metadata": {},
   "outputs": [
    {
     "data": {
      "text/html": [
       "<div>\n",
       "<style scoped>\n",
       "    .dataframe tbody tr th:only-of-type {\n",
       "        vertical-align: middle;\n",
       "    }\n",
       "\n",
       "    .dataframe tbody tr th {\n",
       "        vertical-align: top;\n",
       "    }\n",
       "\n",
       "    .dataframe thead th {\n",
       "        text-align: right;\n",
       "    }\n",
       "</style>\n",
       "<table border=\"1\" class=\"dataframe\">\n",
       "  <thead>\n",
       "    <tr style=\"text-align: right;\">\n",
       "      <th></th>\n",
       "      <th>importance</th>\n",
       "    </tr>\n",
       "  </thead>\n",
       "  <tbody>\n",
       "    <tr>\n",
       "      <th>Budget_Real</th>\n",
       "      <td>0.090691</td>\n",
       "    </tr>\n",
       "    <tr>\n",
       "      <th>Nominated_Minor</th>\n",
       "      <td>0.070060</td>\n",
       "    </tr>\n",
       "    <tr>\n",
       "      <th>Revenue_Actor_Real</th>\n",
       "      <td>0.068489</td>\n",
       "    </tr>\n",
       "    <tr>\n",
       "      <th>Rating_IMDB</th>\n",
       "      <td>0.066806</td>\n",
       "    </tr>\n",
       "    <tr>\n",
       "      <th>Length</th>\n",
       "      <td>0.066731</td>\n",
       "    </tr>\n",
       "    <tr>\n",
       "      <th>Rating_RT</th>\n",
       "      <td>0.066524</td>\n",
       "    </tr>\n",
       "    <tr>\n",
       "      <th>Revenue_Writer_Real</th>\n",
       "      <td>0.065573</td>\n",
       "    </tr>\n",
       "    <tr>\n",
       "      <th>Rating_Metacritic</th>\n",
       "      <td>0.063662</td>\n",
       "    </tr>\n",
       "    <tr>\n",
       "      <th>Won_Minor</th>\n",
       "      <td>0.051912</td>\n",
       "    </tr>\n",
       "    <tr>\n",
       "      <th>Revenue_Director_Real</th>\n",
       "      <td>0.051731</td>\n",
       "    </tr>\n",
       "  </tbody>\n",
       "</table>\n",
       "</div>"
      ],
      "text/plain": [
       "                       importance\n",
       "Budget_Real              0.090691\n",
       "Nominated_Minor          0.070060\n",
       "Revenue_Actor_Real       0.068489\n",
       "Rating_IMDB              0.066806\n",
       "Length                   0.066731\n",
       "Rating_RT                0.066524\n",
       "Revenue_Writer_Real      0.065573\n",
       "Rating_Metacritic        0.063662\n",
       "Won_Minor                0.051912\n",
       "Revenue_Director_Real    0.051731"
      ]
     },
     "execution_count": 58,
     "metadata": {},
     "output_type": "execute_result"
    }
   ],
   "source": [
    "#Got this code to determine most important feature from here:\n",
    "#https://towardsdatascience.com/running-random-forests-inspect-the-feature-importances-with-this-code-2b00dd72b92e\n",
    "feature_importances = pd.DataFrame(rf.feature_importances_,\n",
    "   index = X_train.columns,columns=['importance']).sort_values('importance',\n",
    "    ascending=False)\n",
    "(feature_importances.head(10))"
   ]
  },
  {
   "cell_type": "markdown",
   "metadata": {},
   "source": [
    "### Support Vector Classification\n",
    "\n",
    "We will next use SVC to see how well it predicts both \"Profit_Bucket\" and \"Profit_Bucket_Binary\""
   ]
  },
  {
   "cell_type": "code",
   "execution_count": 59,
   "metadata": {
    "scrolled": false
   },
   "outputs": [
    {
     "name": "stderr",
     "output_type": "stream",
     "text": [
      "C:\\Users\\Rebecca\\Anaconda3\\lib\\site-packages\\sklearn\\metrics\\classification.py:1135: UndefinedMetricWarning: F-score is ill-defined and being set to 0.0 in labels with no predicted samples.\n",
      "  'precision', 'predicted', average, warn_for)\n"
     ]
    },
    {
     "name": "stdout",
     "output_type": "stream",
     "text": [
      "[0.55364455 0.         0.         0.         0.         0.        ]\n"
     ]
    },
    {
     "name": "stderr",
     "output_type": "stream",
     "text": [
      "C:\\Users\\Rebecca\\Anaconda3\\lib\\site-packages\\sklearn\\metrics\\classification.py:1135: UndefinedMetricWarning: Precision and F-score are ill-defined and being set to 0.0 in labels with no predicted samples.\n",
      "  'precision', 'predicted', average, warn_for)\n"
     ]
    },
    {
     "data": {
      "image/png": "[encoded data removed]",
      "text/plain": [
       "<matplotlib.figure.Figure at 0x454723fe48>"
      ]
     },
     "metadata": {},
     "output_type": "display_data"
    }
   ],
   "source": [
    "kernels = ['linear', 'poly', 'rbf']\n",
    "\n",
    "for kernel in kernels:\n",
    "    if kernel != 'poly':\n",
    "        model      = SVC(kernel=kernel)\n",
    "    else:\n",
    "        model      = SVC(kernel=kernel, degree=3)\n",
    "\n",
    "model.fit(X_train, y_train)\n",
    "#print(model.score(X_test, y_test))\n",
    "expected  = y_test\n",
    "predicted = model.predict(X_test)\n",
    "print(f1_score(expected, predicted, average=None))\n",
    "\n",
    "oz = ClassificationReport(model, support=True)\n",
    "oz.fit(X_train, y_train)\n",
    "oz.score(X_test, y_test)\n",
    "oz.poof()\n",
    "#SVC_report = classification_report(expected, predicted)"
   ]
  },
  {
   "cell_type": "markdown",
   "metadata": {},
   "source": [
    "### Logistic Regression\n",
    "\n",
    "We will use Logistic Regression to see how well it predicts \"Profit_Bucket_Binary\""
   ]
  },
  {
   "cell_type": "code",
   "execution_count": 60,
   "metadata": {},
   "outputs": [
    {
     "name": "stdout",
     "output_type": "stream",
     "text": [
      "[0.56740443 0.09022556 0.21364985 0.07142857 0.02985075 0.02985075]\n"
     ]
    },
    {
     "data": {
      "image/png": "[encoded data removed]",
      "text/plain": [
       "<matplotlib.figure.Figure at 0x4544e7ca90>"
      ]
     },
     "metadata": {},
     "output_type": "display_data"
    }
   ],
   "source": [
    "lr = LogisticRegression(random_state=1)\n",
    "log_reg = lr.fit(X_train, y_train)\n",
    "#print(log_reg.score(X_test, y_test))\n",
    "expected  = y_test\n",
    "predicted = log_reg.predict(X_test)\n",
    "print(f1_score(expected, predicted, average=None))\n",
    "\n",
    "\n",
    "oz = ClassificationReport(log_reg, support=True)\n",
    "oz.fit(X_train, y_train)\n",
    "oz.score(X_test, y_test)\n",
    "oz.poof()"
   ]
  },
  {
   "cell_type": "code",
   "execution_count": 63,
   "metadata": {},
   "outputs": [],
   "source": [
    "#feature_importances = pd.DataFrame(log_reg.coef_.transpose(),\n",
    "#   index = X_train.columns,columns=['importance']).sort_values('importance',\n",
    "#    ascending=False)\n",
    "#feature_importances.abs().sort_values(by='importance', ascending=False)\n",
    "#(feature_importances.head(10))"
   ]
  },
  {
   "cell_type": "markdown",
   "metadata": {},
   "source": [
    "### XGBoost\n",
    "\n",
    "We will use XGBoost to see how well it predicts both \"Profit_Bucket\" and \"Profit_Bucket_Binary\""
   ]
  },
  {
   "cell_type": "code",
   "execution_count": 64,
   "metadata": {},
   "outputs": [
    {
     "name": "stderr",
     "output_type": "stream",
     "text": [
      "C:\\Users\\Rebecca\\Anaconda3\\lib\\site-packages\\sklearn\\preprocessing\\label.py:151: DeprecationWarning: The truth value of an empty array is ambiguous. Returning False, but in future this will result in an error. Use `array.size > 0` to check that an array is not empty.\n",
      "  if diff:\n"
     ]
    },
    {
     "name": "stdout",
     "output_type": "stream",
     "text": [
      "[0.67869222 0.47933884 0.27986348 0.23762376 0.07407407 0.13114754]\n"
     ]
    },
    {
     "name": "stderr",
     "output_type": "stream",
     "text": [
      "C:\\Users\\Rebecca\\Anaconda3\\lib\\site-packages\\sklearn\\preprocessing\\label.py:151: DeprecationWarning: The truth value of an empty array is ambiguous. Returning False, but in future this will result in an error. Use `array.size > 0` to check that an array is not empty.\n",
      "  if diff:\n"
     ]
    },
    {
     "data": {
      "image/png": "[encoded data removed]",
      "text/plain": [
       "<matplotlib.figure.Figure at 0x4544051e80>"
      ]
     },
     "metadata": {},
     "output_type": "display_data"
    }
   ],
   "source": [
    "model=XGBClassifier()\n",
    "model.fit(X_train, y_train)\n",
    "#print(model.score(X_test, y_test))\n",
    "expected  = y_test\n",
    "predicted = model.predict(X_test)\n",
    "print(f1_score(expected, predicted, average=None))\n",
    "\n",
    "oz = ClassificationReport(model, support=True)\n",
    "oz.fit(X_train, y_train)\n",
    "oz.score(X_test, y_test)\n",
    "oz.poof()"
   ]
  },
  {
   "cell_type": "code",
   "execution_count": 65,
   "metadata": {},
   "outputs": [
    {
     "data": {
      "text/html": [
       "<div>\n",
       "<style scoped>\n",
       "    .dataframe tbody tr th:only-of-type {\n",
       "        vertical-align: middle;\n",
       "    }\n",
       "\n",
       "    .dataframe tbody tr th {\n",
       "        vertical-align: top;\n",
       "    }\n",
       "\n",
       "    .dataframe thead th {\n",
       "        text-align: right;\n",
       "    }\n",
       "</style>\n",
       "<table border=\"1\" class=\"dataframe\">\n",
       "  <thead>\n",
       "    <tr style=\"text-align: right;\">\n",
       "      <th></th>\n",
       "      <th>importance</th>\n",
       "    </tr>\n",
       "  </thead>\n",
       "  <tbody>\n",
       "    <tr>\n",
       "      <th>Budget_Real</th>\n",
       "      <td>0.154523</td>\n",
       "    </tr>\n",
       "    <tr>\n",
       "      <th>Revenue_Actor_Real</th>\n",
       "      <td>0.077136</td>\n",
       "    </tr>\n",
       "    <tr>\n",
       "      <th>Length</th>\n",
       "      <td>0.073116</td>\n",
       "    </tr>\n",
       "    <tr>\n",
       "      <th>Revenue_Writer_Real</th>\n",
       "      <td>0.071608</td>\n",
       "    </tr>\n",
       "    <tr>\n",
       "      <th>Nominated_Minor</th>\n",
       "      <td>0.065829</td>\n",
       "    </tr>\n",
       "    <tr>\n",
       "      <th>Rating_IMDB</th>\n",
       "      <td>0.064070</td>\n",
       "    </tr>\n",
       "    <tr>\n",
       "      <th>Revenue_Director_Real</th>\n",
       "      <td>0.058543</td>\n",
       "    </tr>\n",
       "    <tr>\n",
       "      <th>Rating_RT</th>\n",
       "      <td>0.057286</td>\n",
       "    </tr>\n",
       "    <tr>\n",
       "      <th>Rating_Metacritic</th>\n",
       "      <td>0.054774</td>\n",
       "    </tr>\n",
       "    <tr>\n",
       "      <th>Won_Minor</th>\n",
       "      <td>0.052010</td>\n",
       "    </tr>\n",
       "  </tbody>\n",
       "</table>\n",
       "</div>"
      ],
      "text/plain": [
       "                       importance\n",
       "Budget_Real              0.154523\n",
       "Revenue_Actor_Real       0.077136\n",
       "Length                   0.073116\n",
       "Revenue_Writer_Real      0.071608\n",
       "Nominated_Minor          0.065829\n",
       "Rating_IMDB              0.064070\n",
       "Revenue_Director_Real    0.058543\n",
       "Rating_RT                0.057286\n",
       "Rating_Metacritic        0.054774\n",
       "Won_Minor                0.052010"
      ]
     },
     "execution_count": 65,
     "metadata": {},
     "output_type": "execute_result"
    }
   ],
   "source": [
    "feature_importances = pd.DataFrame(model.feature_importances_,\n",
    "   index = X_train.columns,columns=['importance']).sort_values('importance',\n",
    "    ascending=False)\n",
    "(feature_importances.head(10))"
   ]
  },
  {
   "cell_type": "markdown",
   "metadata": {},
   "source": [
    "### Bagging Classifier"
   ]
  },
  {
   "cell_type": "code",
   "execution_count": 66,
   "metadata": {},
   "outputs": [
    {
     "name": "stdout",
     "output_type": "stream",
     "text": [
      "[0.64009662 0.4137931  0.20668693 0.21800948 0.10752688 0.1369863 ]\n"
     ]
    },
    {
     "data": {
      "image/png": "[encoded data removed]",
      "text/plain": [
       "<matplotlib.figure.Figure at 0x45474f6cf8>"
      ]
     },
     "metadata": {},
     "output_type": "display_data"
    }
   ],
   "source": [
    "model = BaggingClassifier()\n",
    "model.fit(X_train, y_train)\n",
    "expected  = y_test\n",
    "predicted = model.predict(X_test)\n",
    "print(f1_score(expected, predicted, average=None))\n",
    "\n",
    "oz = ClassificationReport(model, support=True)\n",
    "oz.fit(X_train, y_train)\n",
    "oz.score(X_test, y_test)\n",
    "oz.poof()"
   ]
  },
  {
   "cell_type": "markdown",
   "metadata": {},
   "source": [
    "### ExtraTreesClassifier"
   ]
  },
  {
   "cell_type": "code",
   "execution_count": 67,
   "metadata": {},
   "outputs": [
    {
     "name": "stdout",
     "output_type": "stream",
     "text": [
      "[0.66115702 0.38135593 0.24183007 0.1682243  0.08791209 0.02777778]\n"
     ]
    },
    {
     "data": {
      "image/png": "[encoded data removed]",
      "text/plain": [
       "<matplotlib.figure.Figure at 0x454767f5c0>"
      ]
     },
     "metadata": {},
     "output_type": "display_data"
    }
   ],
   "source": [
    "model = ExtraTreesClassifier()\n",
    "model.fit(X_train, y_train)\n",
    "expected  = y_test\n",
    "predicted = model.predict(X_test)\n",
    "print(f1_score(expected, predicted, average=None))\n",
    "\n",
    "oz = ClassificationReport(model, support=True)\n",
    "oz.fit(X_train, y_train)\n",
    "oz.score(X_test, y_test)\n",
    "oz.poof()"
   ]
  },
  {
   "cell_type": "markdown",
   "metadata": {},
   "source": [
    "### AdaBoostClassifier"
   ]
  },
  {
   "cell_type": "code",
   "execution_count": 68,
   "metadata": {},
   "outputs": [
    {
     "name": "stdout",
     "output_type": "stream",
     "text": [
      "[0.69135802 0.42290749 0.2541806  0.20769231 0.12244898 0.11111111]\n"
     ]
    },
    {
     "data": {
      "image/png": "[encoded data removed]",
      "text/plain": [
       "<matplotlib.figure.Figure at 0x454769eeb8>"
      ]
     },
     "metadata": {},
     "output_type": "display_data"
    }
   ],
   "source": [
    "model = AdaBoostClassifier()\n",
    "model.fit(X_train, y_train)\n",
    "expected  = y_test\n",
    "predicted = model.predict(X_test)\n",
    "print(f1_score(expected, predicted, average=None))\n",
    "\n",
    "oz = ClassificationReport(model, support=True)\n",
    "oz.fit(X_train, y_train)\n",
    "oz.score(X_test, y_test)\n",
    "oz.poof()\n"
   ]
  },
  {
   "cell_type": "markdown",
   "metadata": {},
   "source": [
    "### SGDClassifier\n"
   ]
  },
  {
   "cell_type": "code",
   "execution_count": 69,
   "metadata": {},
   "outputs": [
    {
     "name": "stderr",
     "output_type": "stream",
     "text": [
      "C:\\Users\\Rebecca\\Anaconda3\\lib\\site-packages\\sklearn\\linear_model\\stochastic_gradient.py:128: FutureWarning: max_iter and tol parameters have been added in <class 'sklearn.linear_model.stochastic_gradient.SGDClassifier'> in 0.19. If both are left unset, they default to max_iter=5 and tol=None. If tol is not None, max_iter defaults to max_iter=1000. From 0.21, default max_iter will be 1000, and default tol will be 1e-3.\n",
      "  \"and default tol will be 1e-3.\" % type(self), FutureWarning)\n",
      "C:\\Users\\Rebecca\\Anaconda3\\lib\\site-packages\\sklearn\\metrics\\classification.py:1135: UndefinedMetricWarning: F-score is ill-defined and being set to 0.0 in labels with no predicted samples.\n",
      "  'precision', 'predicted', average, warn_for)\n",
      "C:\\Users\\Rebecca\\Anaconda3\\lib\\site-packages\\sklearn\\metrics\\classification.py:1135: UndefinedMetricWarning: Precision and F-score are ill-defined and being set to 0.0 in labels with no predicted samples.\n",
      "  'precision', 'predicted', average, warn_for)\n"
     ]
    },
    {
     "name": "stdout",
     "output_type": "stream",
     "text": [
      "[0.53376906 0.12903226 0.06324111 0.03821656 0.12060302 0.        ]\n"
     ]
    },
    {
     "data": {
      "image/png": "[encoded data removed]",
      "text/plain": [
       "<matplotlib.figure.Figure at 0x454894d630>"
      ]
     },
     "metadata": {},
     "output_type": "display_data"
    }
   ],
   "source": [
    "model = SGDClassifier()\n",
    "model.fit(X_train, y_train)\n",
    "expected  = y_test\n",
    "predicted = model.predict(X_test)\n",
    "print(f1_score(expected, predicted, average=None))\n",
    "\n",
    "oz = ClassificationReport(model, support=True)\n",
    "oz.fit(X_train, y_train)\n",
    "oz.score(X_test, y_test)\n",
    "oz.poof()"
   ]
  },
  {
   "cell_type": "markdown",
   "metadata": {},
   "source": [
    "### K nearest neighbors classifier\n"
   ]
  },
  {
   "cell_type": "code",
   "execution_count": 70,
   "metadata": {
    "scrolled": true
   },
   "outputs": [
    {
     "name": "stdout",
     "output_type": "stream",
     "text": [
      "[0.55398037 0.1588785  0.20422535 0.04166667 0.04347826 0.02985075]\n"
     ]
    },
    {
     "data": {
      "image/png": "[encoded data removed]",
      "text/plain": [
       "<matplotlib.figure.Figure at 0x454898cda0>"
      ]
     },
     "metadata": {},
     "output_type": "display_data"
    }
   ],
   "source": [
    "model = KNeighborsClassifier()\n",
    "model.fit(X_train, y_train)\n",
    "expected  = y_test\n",
    "predicted = model.predict(X_test)\n",
    "print(f1_score(expected, predicted, average=None))\n",
    "\n",
    "oz = ClassificationReport(model, support=True)\n",
    "oz.fit(X_train, y_train)\n",
    "oz.score(X_test, y_test)\n",
    "oz.poof()"
   ]
  },
  {
   "cell_type": "code",
   "execution_count": null,
   "metadata": {},
   "outputs": [],
   "source": []
  },
  {
   "cell_type": "code",
   "execution_count": null,
   "metadata": {},
   "outputs": [],
   "source": []
  },
  {
   "cell_type": "code",
   "execution_count": 117,
   "metadata": {},
   "outputs": [],
   "source": [
    "class EncodeCategorical(BaseEstimator, TransformerMixin):\n",
    "    \"\"\"\n",
    "    Encodes a specified list of columns or all columns if None. \n",
    "    \"\"\"\n",
    "    \n",
    "    def __init__(self, columns=None):\n",
    "        self.columns  = [col for col in columns] \n",
    "        self.encoders = None\n",
    "    \n",
    "    def fit(self, data, target=None):\n",
    "        \"\"\"\n",
    "        Expects a data frame with named columns to encode. \n",
    "        \"\"\"\n",
    "        # Encode all columns if columns is None\n",
    "        if self.columns is None:\n",
    "            self.columns = data.columns \n",
    "        \n",
    "        # Fit a label encoder for each column in the data frame\n",
    "        self.encoders = {\n",
    "            column: LabelEncoder().fit(data[column])\n",
    "            for column in self.columns \n",
    "        }\n",
    "        return self\n",
    "\n",
    "    def transform(self, data):\n",
    "        \"\"\"\n",
    "        Uses the encoders to transform a data frame. \n",
    "        \"\"\"\n",
    "        output = data.copy()\n",
    "        for column, encoder in self.encoders.items():\n",
    "            output[column] = encoder.transform(data[column])\n",
    "        \n",
    "        return output"
   ]
  },
  {
   "cell_type": "code",
   "execution_count": 118,
   "metadata": {},
   "outputs": [],
   "source": [
    "def model_selection(X, y, estimator):\n",
    "    \"\"\"\n",
    "    Test various estimators.\n",
    "   \"\"\" \n",
    "    y = LabelEncoder().fit_transform(y.values.ravel())\n",
    "    model = Pipeline([\n",
    "         ('label_encoding', EncodeCategorical(X.keys())), \n",
    "         ('one_hot_encoder', OneHotEncoder()), \n",
    "         ('estimator', estimator)\n",
    "    ])\n",
    "\n",
    "    # Instantiate the classification model and visualizer\n",
    "    model.fit(X, y)  \n",
    "    \n",
    "    expected  = y\n",
    "    predicted = model.predict(X)\n",
    "    \n",
    "    # Compute and return the F1 score (the harmonic mean of precision and recall)\n",
    "    return (f1_score(expected, predicted))"
   ]
  },
  {
   "cell_type": "code",
   "execution_count": null,
   "metadata": {},
   "outputs": [],
   "source": []
  },
  {
   "cell_type": "code",
   "execution_count": 60,
   "metadata": {},
   "outputs": [
    {
     "data": {
      "text/plain": [
       "0.7047451669595782"
      ]
     },
     "execution_count": 60,
     "metadata": {},
     "output_type": "execute_result"
    }
   ],
   "source": [
    "model_selection(X, y, LogisticRegressionCV())"
   ]
  },
  {
   "cell_type": "code",
   "execution_count": 61,
   "metadata": {},
   "outputs": [
    {
     "data": {
      "text/plain": [
       "0.9488931402022409"
      ]
     },
     "execution_count": 61,
     "metadata": {},
     "output_type": "execute_result"
    }
   ],
   "source": [
    "model_selection(X, y, LogisticRegression())"
   ]
  },
  {
   "cell_type": "code",
   "execution_count": 86,
   "metadata": {
    "scrolled": false
   },
   "outputs": [
    {
     "name": "stderr",
     "output_type": "stream",
     "text": [
      "C:\\Users\\Rebecca\\Anaconda3\\lib\\site-packages\\sklearn\\linear_model\\stochastic_gradient.py:128: FutureWarning: max_iter and tol parameters have been added in <class 'sklearn.linear_model.stochastic_gradient.SGDClassifier'> in 0.19. If both are left unset, they default to max_iter=5 and tol=None. If tol is not None, max_iter defaults to max_iter=1000. From 0.21, default max_iter will be 1000, and default tol will be 1e-3.\n",
      "  \"and default tol will be 1e-3.\" % type(self), FutureWarning)\n"
     ]
    },
    {
     "data": {
      "text/plain": [
       "0.752069917203312"
      ]
     },
     "execution_count": 86,
     "metadata": {},
     "output_type": "execute_result"
    }
   ],
   "source": [
    "model_selection(X, y, SGDClassifier())"
   ]
  },
  {
   "cell_type": "code",
   "execution_count": 87,
   "metadata": {},
   "outputs": [
    {
     "data": {
      "text/plain": [
       "0.697254084115398"
      ]
     },
     "execution_count": 87,
     "metadata": {},
     "output_type": "execute_result"
    }
   ],
   "source": [
    "model_selection(X, y, KNeighborsClassifier())"
   ]
  },
  {
   "cell_type": "code",
   "execution_count": 90,
   "metadata": {},
   "outputs": [
    {
     "data": {
      "text/plain": [
       "0.9690533980582524"
      ]
     },
     "execution_count": 90,
     "metadata": {},
     "output_type": "execute_result"
    }
   ],
   "source": [
    "model_selection(X, y, BaggingClassifier())"
   ]
  },
  {
   "cell_type": "code",
   "execution_count": 91,
   "metadata": {},
   "outputs": [
    {
     "data": {
      "text/plain": [
       "1.0"
      ]
     },
     "execution_count": 91,
     "metadata": {},
     "output_type": "execute_result"
    }
   ],
   "source": [
    "model_selection(X, y, ExtraTreesClassifier())"
   ]
  },
  {
   "cell_type": "code",
   "execution_count": 92,
   "metadata": {},
   "outputs": [
    {
     "data": {
      "text/plain": [
       "0.9809495010583611"
      ]
     },
     "execution_count": 92,
     "metadata": {},
     "output_type": "execute_result"
    }
   ],
   "source": [
    "model_selection(X, y, RandomForestClassifier())"
   ]
  },
  {
   "cell_type": "code",
   "execution_count": 102,
   "metadata": {},
   "outputs": [],
   "source": [
    "\n",
    "\n",
    "def visual_model_selection(X, y, estimator):\n",
    "    \"\"\"\n",
    "    Test various estimators.\n",
    "    \"\"\" \n",
    "    y = LabelEncoder().fit_transform(y.values.ravel())\n",
    "    model = Pipeline([\n",
    "         ('label_encoding', EncodeCategorical(X.keys())), \n",
    "         ('one_hot_encoder', OneHotEncoder()), \n",
    "         ('estimator', estimator)\n",
    "    ])\n",
    "\n",
    "    # Instantiate the classification model and visualizer\n",
    "    visualizer = ClassificationReport(model, classes=['0', '1'])\n",
    "    visualizer.fit(X, y)  \n",
    "    visualizer.score(X, y)\n",
    "    visualizer.poof() "
   ]
  },
  {
   "cell_type": "code",
   "execution_count": 103,
   "metadata": {},
   "outputs": [
    {
     "name": "stderr",
     "output_type": "stream",
     "text": [
      "C:\\Users\\Rebecca\\Anaconda3\\lib\\site-packages\\sklearn\\linear_model\\stochastic_gradient.py:128: FutureWarning: max_iter and tol parameters have been added in <class 'sklearn.linear_model.stochastic_gradient.SGDClassifier'> in 0.19. If both are left unset, they default to max_iter=5 and tol=None. If tol is not None, max_iter defaults to max_iter=1000. From 0.21, default max_iter will be 1000, and default tol will be 1e-3.\n",
      "  \"and default tol will be 1e-3.\" % type(self), FutureWarning)\n"
     ]
    },
    {
     "data": {
      "application/javascript": [
       "/* Put everything inside the global mpl namespace */\n",
       "window.mpl = {};\n",
       "\n",
       "\n",
       "mpl.get_websocket_type = function() {\n",
       "    if (typeof(WebSocket) !== 'undefined') {\n",
       "        return WebSocket;\n",
       "    } else if (typeof(MozWebSocket) !== 'undefined') {\n",
       "        return MozWebSocket;\n",
       "    } else {\n",
       "        alert('Your browser does not have WebSocket support.' +\n",
       "              'Please try Chrome, Safari or Firefox ≥ 6. ' +\n",
       "              'Firefox 4 and 5 are also supported but you ' +\n",
       "              'have to enable WebSockets in about:config.');\n",
       "    };\n",
       "}\n",
       "\n",
       "mpl.figure = function(figure_id, websocket, ondownload, parent_element) {\n",
       "    this.id = figure_id;\n",
       "\n",
       "    this.ws = websocket;\n",
       "\n",
       "    this.supports_binary = (this.ws.binaryType != undefined);\n",
       "\n",
       "    if (!this.supports_binary) {\n",
       "        var warnings = document.getElementById(\"mpl-warnings\");\n",
       "        if (warnings) {\n",
       "            warnings.style.display = 'block';\n",
       "            warnings.textContent = (\n",
       "                \"This browser does not support binary websocket messages. \" +\n",
       "                    \"Performance may be slow.\");\n",
       "        }\n",
       "    }\n",
       "\n",
       "    this.imageObj = new Image();\n",
       "\n",
       "    this.context = undefined;\n",
       "    this.message = undefined;\n",
       "    this.canvas = undefined;\n",
       "    this.rubberband_canvas = undefined;\n",
       "    this.rubberband_context = undefined;\n",
       "    this.format_dropdown = undefined;\n",
       "\n",
       "    this.image_mode = 'full';\n",
       "\n",
       "    this.root = $('<div/>');\n",
       "    this._root_extra_style(this.root)\n",
       "    this.root.attr('style', 'display: inline-block');\n",
       "\n",
       "    $(parent_element).append(this.root);\n",
       "\n",
       "    this._init_header(this);\n",
       "    this._init_canvas(this);\n",
       "    this._init_toolbar(this);\n",
       "\n",
       "    var fig = this;\n",
       "\n",
       "    this.waiting = false;\n",
       "\n",
       "    this.ws.onopen =  function () {\n",
       "            fig.send_message(\"supports_binary\", {value: fig.supports_binary});\n",
       "            fig.send_message(\"send_image_mode\", {});\n",
       "            if (mpl.ratio != 1) {\n",
       "                fig.send_message(\"set_dpi_ratio\", {'dpi_ratio': mpl.ratio});\n",
       "            }\n",
       "            fig.send_message(\"refresh\", {});\n",
       "        }\n",
       "\n",
       "    this.imageObj.onload = function() {\n",
       "            if (fig.image_mode == 'full') {\n",
       "                // Full images could contain transparency (where diff images\n",
       "                // almost always do), so we need to clear the canvas so that\n",
       "                // there is no ghosting.\n",
       "                fig.context.clearRect(0, 0, fig.canvas.width, fig.canvas.height);\n",
       "            }\n",
       "            fig.context.drawImage(fig.imageObj, 0, 0);\n",
       "        };\n",
       "\n",
       "    this.imageObj.onunload = function() {\n",
       "        fig.ws.close();\n",
       "    }\n",
       "\n",
       "    this.ws.onmessage = this._make_on_message_function(this);\n",
       "\n",
       "    this.ondownload = ondownload;\n",
       "}\n",
       "\n",
       "mpl.figure.prototype._init_header = function() {\n",
       "    var titlebar = $(\n",
       "        '<div class=\"ui-dialog-titlebar ui-widget-header ui-corner-all ' +\n",
       "        'ui-helper-clearfix\"/>');\n",
       "    var titletext = $(\n",
       "        '<div class=\"ui-dialog-title\" style=\"width: 100%; ' +\n",
       "        'text-align: center; padding: 3px;\"/>');\n",
       "    titlebar.append(titletext)\n",
       "    this.root.append(titlebar);\n",
       "    this.header = titletext[0];\n",
       "}\n",
       "\n",
       "\n",
       "\n",
       "mpl.figure.prototype._canvas_extra_style = function(canvas_div) {\n",
       "\n",
       "}\n",
       "\n",
       "\n",
       "mpl.figure.prototype._root_extra_style = function(canvas_div) {\n",
       "\n",
       "}\n",
       "\n",
       "mpl.figure.prototype._init_canvas = function() {\n",
       "    var fig = this;\n",
       "\n",
       "    var canvas_div = $('<div/>');\n",
       "\n",
       "    canvas_div.attr('style', 'position: relative; clear: both; outline: 0');\n",
       "\n",
       "    function canvas_keyboard_event(event) {\n",
       "        return fig.key_event(event, event['data']);\n",
       "    }\n",
       "\n",
       "    canvas_div.keydown('key_press', canvas_keyboard_event);\n",
       "    canvas_div.keyup('key_release', canvas_keyboard_event);\n",
       "    this.canvas_div = canvas_div\n",
       "    this._canvas_extra_style(canvas_div)\n",
       "    this.root.append(canvas_div);\n",
       "\n",
       "    var canvas = $('<canvas/>');\n",
       "    canvas.addClass('mpl-canvas');\n",
       "    canvas.attr('style', \"left: 0; top: 0; z-index: 0; outline: 0\")\n",
       "\n",
       "    this.canvas = canvas[0];\n",
       "    this.context = canvas[0].getContext(\"2d\");\n",
       "\n",
       "    var backingStore = this.context.backingStorePixelRatio ||\n",
       "\tthis.context.webkitBackingStorePixelRatio ||\n",
       "\tthis.context.mozBackingStorePixelRatio ||\n",
       "\tthis.context.msBackingStorePixelRatio ||\n",
       "\tthis.context.oBackingStorePixelRatio ||\n",
       "\tthis.context.backingStorePixelRatio || 1;\n",
       "\n",
       "    mpl.ratio = (window.devicePixelRatio || 1) / backingStore;\n",
       "\n",
       "    var rubberband = $('<canvas/>');\n",
       "    rubberband.attr('style', \"position: absolute; left: 0; top: 0; z-index: 1;\")\n",
       "\n",
       "    var pass_mouse_events = true;\n",
       "\n",
       "    canvas_div.resizable({\n",
       "        start: function(event, ui) {\n",
       "            pass_mouse_events = false;\n",
       "        },\n",
       "        resize: function(event, ui) {\n",
       "            fig.request_resize(ui.size.width, ui.size.height);\n",
       "        },\n",
       "        stop: function(event, ui) {\n",
       "            pass_mouse_events = true;\n",
       "            fig.request_resize(ui.size.width, ui.size.height);\n",
       "        },\n",
       "    });\n",
       "\n",
       "    function mouse_event_fn(event) {\n",
       "        if (pass_mouse_events)\n",
       "            return fig.mouse_event(event, event['data']);\n",
       "    }\n",
       "\n",
       "    rubberband.mousedown('button_press', mouse_event_fn);\n",
       "    rubberband.mouseup('button_release', mouse_event_fn);\n",
       "    // Throttle sequential mouse events to 1 every 20ms.\n",
       "    rubberband.mousemove('motion_notify', mouse_event_fn);\n",
       "\n",
       "    rubberband.mouseenter('figure_enter', mouse_event_fn);\n",
       "    rubberband.mouseleave('figure_leave', mouse_event_fn);\n",
       "\n",
       "    canvas_div.on(\"wheel\", function (event) {\n",
       "        event = event.originalEvent;\n",
       "        event['data'] = 'scroll'\n",
       "        if (event.deltaY < 0) {\n",
       "            event.step = 1;\n",
       "        } else {\n",
       "            event.step = -1;\n",
       "        }\n",
       "        mouse_event_fn(event);\n",
       "    });\n",
       "\n",
       "    canvas_div.append(canvas);\n",
       "    canvas_div.append(rubberband);\n",
       "\n",
       "    this.rubberband = rubberband;\n",
       "    this.rubberband_canvas = rubberband[0];\n",
       "    this.rubberband_context = rubberband[0].getContext(\"2d\");\n",
       "    this.rubberband_context.strokeStyle = \"#000000\";\n",
       "\n",
       "    this._resize_canvas = function(width, height) {\n",
       "        // Keep the size of the canvas, canvas container, and rubber band\n",
       "        // canvas in synch.\n",
       "        canvas_div.css('width', width)\n",
       "        canvas_div.css('height', height)\n",
       "\n",
       "        canvas.attr('width', width * mpl.ratio);\n",
       "        canvas.attr('height', height * mpl.ratio);\n",
       "        canvas.attr('style', 'width: ' + width + 'px; height: ' + height + 'px;');\n",
       "\n",
       "        rubberband.attr('width', width);\n",
       "        rubberband.attr('height', height);\n",
       "    }\n",
       "\n",
       "    // Set the figure to an initial 600x600px, this will subsequently be updated\n",
       "    // upon first draw.\n",
       "    this._resize_canvas(600, 600);\n",
       "\n",
       "    // Disable right mouse context menu.\n",
       "    $(this.rubberband_canvas).bind(\"contextmenu\",function(e){\n",
       "        return false;\n",
       "    });\n",
       "\n",
       "    function set_focus () {\n",
       "        canvas.focus();\n",
       "        canvas_div.focus();\n",
       "    }\n",
       "\n",
       "    window.setTimeout(set_focus, 100);\n",
       "}\n",
       "\n",
       "mpl.figure.prototype._init_toolbar = function() {\n",
       "    var fig = this;\n",
       "\n",
       "    var nav_element = $('<div/>')\n",
       "    nav_element.attr('style', 'width: 100%');\n",
       "    this.root.append(nav_element);\n",
       "\n",
       "    // Define a callback function for later on.\n",
       "    function toolbar_event(event) {\n",
       "        return fig.toolbar_button_onclick(event['data']);\n",
       "    }\n",
       "    function toolbar_mouse_event(event) {\n",
       "        return fig.toolbar_button_onmouseover(event['data']);\n",
       "    }\n",
       "\n",
       "    for(var toolbar_ind in mpl.toolbar_items) {\n",
       "        var name = mpl.toolbar_items[toolbar_ind][0];\n",
       "        var tooltip = mpl.toolbar_items[toolbar_ind][1];\n",
       "        var image = mpl.toolbar_items[toolbar_ind][2];\n",
       "        var method_name = mpl.toolbar_items[toolbar_ind][3];\n",
       "\n",
       "        if (!name) {\n",
       "            // put a spacer in here.\n",
       "            continue;\n",
       "        }\n",
       "        var button = $('<button/>');\n",
       "        button.addClass('ui-button ui-widget ui-state-default ui-corner-all ' +\n",
       "                        'ui-button-icon-only');\n",
       "        button.attr('role', 'button');\n",
       "        button.attr('aria-disabled', 'false');\n",
       "        button.click(method_name, toolbar_event);\n",
       "        button.mouseover(tooltip, toolbar_mouse_event);\n",
       "\n",
       "        var icon_img = $('<span/>');\n",
       "        icon_img.addClass('ui-button-icon-primary ui-icon');\n",
       "        icon_img.addClass(image);\n",
       "        icon_img.addClass('ui-corner-all');\n",
       "\n",
       "        var tooltip_span = $('<span/>');\n",
       "        tooltip_span.addClass('ui-button-text');\n",
       "        tooltip_span.html(tooltip);\n",
       "\n",
       "        button.append(icon_img);\n",
       "        button.append(tooltip_span);\n",
       "\n",
       "        nav_element.append(button);\n",
       "    }\n",
       "\n",
       "    var fmt_picker_span = $('<span/>');\n",
       "\n",
       "    var fmt_picker = $('<select/>');\n",
       "    fmt_picker.addClass('mpl-toolbar-option ui-widget ui-widget-content');\n",
       "    fmt_picker_span.append(fmt_picker);\n",
       "    nav_element.append(fmt_picker_span);\n",
       "    this.format_dropdown = fmt_picker[0];\n",
       "\n",
       "    for (var ind in mpl.extensions) {\n",
       "        var fmt = mpl.extensions[ind];\n",
       "        var option = $(\n",
       "            '<option/>', {selected: fmt === mpl.default_extension}).html(fmt);\n",
       "        fmt_picker.append(option)\n",
       "    }\n",
       "\n",
       "    // Add hover states to the ui-buttons\n",
       "    $( \".ui-button\" ).hover(\n",
       "        function() { $(this).addClass(\"ui-state-hover\");},\n",
       "        function() { $(this).removeClass(\"ui-state-hover\");}\n",
       "    );\n",
       "\n",
       "    var status_bar = $('<span class=\"mpl-message\"/>');\n",
       "    nav_element.append(status_bar);\n",
       "    this.message = status_bar[0];\n",
       "}\n",
       "\n",
       "mpl.figure.prototype.request_resize = function(x_pixels, y_pixels) {\n",
       "    // Request matplotlib to resize the figure. Matplotlib will then trigger a resize in the client,\n",
       "    // which will in turn request a refresh of the image.\n",
       "    this.send_message('resize', {'width': x_pixels, 'height': y_pixels});\n",
       "}\n",
       "\n",
       "mpl.figure.prototype.send_message = function(type, properties) {\n",
       "    properties['type'] = type;\n",
       "    properties['figure_id'] = this.id;\n",
       "    this.ws.send(JSON.stringify(properties));\n",
       "}\n",
       "\n",
       "mpl.figure.prototype.send_draw_message = function() {\n",
       "    if (!this.waiting) {\n",
       "        this.waiting = true;\n",
       "        this.ws.send(JSON.stringify({type: \"draw\", figure_id: this.id}));\n",
       "    }\n",
       "}\n",
       "\n",
       "\n",
       "mpl.figure.prototype.handle_save = function(fig, msg) {\n",
       "    var format_dropdown = fig.format_dropdown;\n",
       "    var format = format_dropdown.options[format_dropdown.selectedIndex].value;\n",
       "    fig.ondownload(fig, format);\n",
       "}\n",
       "\n",
       "\n",
       "mpl.figure.prototype.handle_resize = function(fig, msg) {\n",
       "    var size = msg['size'];\n",
       "    if (size[0] != fig.canvas.width || size[1] != fig.canvas.height) {\n",
       "        fig._resize_canvas(size[0], size[1]);\n",
       "        fig.send_message(\"refresh\", {});\n",
       "    };\n",
       "}\n",
       "\n",
       "mpl.figure.prototype.handle_rubberband = function(fig, msg) {\n",
       "    var x0 = msg['x0'] / mpl.ratio;\n",
       "    var y0 = (fig.canvas.height - msg['y0']) / mpl.ratio;\n",
       "    var x1 = msg['x1'] / mpl.ratio;\n",
       "    var y1 = (fig.canvas.height - msg['y1']) / mpl.ratio;\n",
       "    x0 = Math.floor(x0) + 0.5;\n",
       "    y0 = Math.floor(y0) + 0.5;\n",
       "    x1 = Math.floor(x1) + 0.5;\n",
       "    y1 = Math.floor(y1) + 0.5;\n",
       "    var min_x = Math.min(x0, x1);\n",
       "    var min_y = Math.min(y0, y1);\n",
       "    var width = Math.abs(x1 - x0);\n",
       "    var height = Math.abs(y1 - y0);\n",
       "\n",
       "    fig.rubberband_context.clearRect(\n",
       "        0, 0, fig.canvas.width, fig.canvas.height);\n",
       "\n",
       "    fig.rubberband_context.strokeRect(min_x, min_y, width, height);\n",
       "}\n",
       "\n",
       "mpl.figure.prototype.handle_figure_label = function(fig, msg) {\n",
       "    // Updates the figure title.\n",
       "    fig.header.textContent = msg['label'];\n",
       "}\n",
       "\n",
       "mpl.figure.prototype.handle_cursor = function(fig, msg) {\n",
       "    var cursor = msg['cursor'];\n",
       "    switch(cursor)\n",
       "    {\n",
       "    case 0:\n",
       "        cursor = 'pointer';\n",
       "        break;\n",
       "    case 1:\n",
       "        cursor = 'default';\n",
       "        break;\n",
       "    case 2:\n",
       "        cursor = 'crosshair';\n",
       "        break;\n",
       "    case 3:\n",
       "        cursor = 'move';\n",
       "        break;\n",
       "    }\n",
       "    fig.rubberband_canvas.style.cursor = cursor;\n",
       "}\n",
       "\n",
       "mpl.figure.prototype.handle_message = function(fig, msg) {\n",
       "    fig.message.textContent = msg['message'];\n",
       "}\n",
       "\n",
       "mpl.figure.prototype.handle_draw = function(fig, msg) {\n",
       "    // Request the server to send over a new figure.\n",
       "    fig.send_draw_message();\n",
       "}\n",
       "\n",
       "mpl.figure.prototype.handle_image_mode = function(fig, msg) {\n",
       "    fig.image_mode = msg['mode'];\n",
       "}\n",
       "\n",
       "mpl.figure.prototype.updated_canvas_event = function() {\n",
       "    // Called whenever the canvas gets updated.\n",
       "    this.send_message(\"ack\", {});\n",
       "}\n",
       "\n",
       "// A function to construct a web socket function for onmessage handling.\n",
       "// Called in the figure constructor.\n",
       "mpl.figure.prototype._make_on_message_function = function(fig) {\n",
       "    return function socket_on_message(evt) {\n",
       "        if (evt.data instanceof Blob) {\n",
       "            /* FIXME: We get \"Resource interpreted as Image but\n",
       "             * transferred with MIME type text/plain:\" errors on\n",
       "             * Chrome.  But how to set the MIME type?  It doesn't seem\n",
       "             * to be part of the websocket stream */\n",
       "            evt.data.type = \"image/png\";\n",
       "\n",
       "            /* Free the memory for the previous frames */\n",
       "            if (fig.imageObj.src) {\n",
       "                (window.URL || window.webkitURL).revokeObjectURL(\n",
       "                    fig.imageObj.src);\n",
       "            }\n",
       "\n",
       "            fig.imageObj.src = (window.URL || window.webkitURL).createObjectURL(\n",
       "                evt.data);\n",
       "            fig.updated_canvas_event();\n",
       "            fig.waiting = false;\n",
       "            return;\n",
       "        }\n",
       "        else if (typeof evt.data === 'string' && evt.data.slice(0, 21) == \"data:image/png;base64\") {\n",
       "            fig.imageObj.src = evt.data;\n",
       "            fig.updated_canvas_event();\n",
       "            fig.waiting = false;\n",
       "            return;\n",
       "        }\n",
       "\n",
       "        var msg = JSON.parse(evt.data);\n",
       "        var msg_type = msg['type'];\n",
       "\n",
       "        // Call the  \"handle_{type}\" callback, which takes\n",
       "        // the figure and JSON message as its only arguments.\n",
       "        try {\n",
       "            var callback = fig[\"handle_\" + msg_type];\n",
       "        } catch (e) {\n",
       "            console.log(\"No handler for the '\" + msg_type + \"' message type: \", msg);\n",
       "            return;\n",
       "        }\n",
       "\n",
       "        if (callback) {\n",
       "            try {\n",
       "                // console.log(\"Handling '\" + msg_type + \"' message: \", msg);\n",
       "                callback(fig, msg);\n",
       "            } catch (e) {\n",
       "                console.log(\"Exception inside the 'handler_\" + msg_type + \"' callback:\", e, e.stack, msg);\n",
       "            }\n",
       "        }\n",
       "    };\n",
       "}\n",
       "\n",
       "// from http://stackoverflow.com/questions/1114465/getting-mouse-location-in-canvas\n",
       "mpl.findpos = function(e) {\n",
       "    //this section is from http://www.quirksmode.org/js/events_properties.html\n",
       "    var targ;\n",
       "    if (!e)\n",
       "        e = window.event;\n",
       "    if (e.target)\n",
       "        targ = e.target;\n",
       "    else if (e.srcElement)\n",
       "        targ = e.srcElement;\n",
       "    if (targ.nodeType == 3) // defeat Safari bug\n",
       "        targ = targ.parentNode;\n",
       "\n",
       "    // jQuery normalizes the pageX and pageY\n",
       "    // pageX,Y are the mouse positions relative to the document\n",
       "    // offset() returns the position of the element relative to the document\n",
       "    var x = e.pageX - $(targ).offset().left;\n",
       "    var y = e.pageY - $(targ).offset().top;\n",
       "\n",
       "    return {\"x\": x, \"y\": y};\n",
       "};\n",
       "\n",
       "/*\n",
       " * return a copy of an object with only non-object keys\n",
       " * we need this to avoid circular references\n",
       " * http://stackoverflow.com/a/24161582/3208463\n",
       " */\n",
       "function simpleKeys (original) {\n",
       "  return Object.keys(original).reduce(function (obj, key) {\n",
       "    if (typeof original[key] !== 'object')\n",
       "        obj[key] = original[key]\n",
       "    return obj;\n",
       "  }, {});\n",
       "}\n",
       "\n",
       "mpl.figure.prototype.mouse_event = function(event, name) {\n",
       "    var canvas_pos = mpl.findpos(event)\n",
       "\n",
       "    if (name === 'button_press')\n",
       "    {\n",
       "        this.canvas.focus();\n",
       "        this.canvas_div.focus();\n",
       "    }\n",
       "\n",
       "    var x = canvas_pos.x * mpl.ratio;\n",
       "    var y = canvas_pos.y * mpl.ratio;\n",
       "\n",
       "    this.send_message(name, {x: x, y: y, button: event.button,\n",
       "                             step: event.step,\n",
       "                             guiEvent: simpleKeys(event)});\n",
       "\n",
       "    /* This prevents the web browser from automatically changing to\n",
       "     * the text insertion cursor when the button is pressed.  We want\n",
       "     * to control all of the cursor setting manually through the\n",
       "     * 'cursor' event from matplotlib */\n",
       "    event.preventDefault();\n",
       "    return false;\n",
       "}\n",
       "\n",
       "mpl.figure.prototype._key_event_extra = function(event, name) {\n",
       "    // Handle any extra behaviour associated with a key event\n",
       "}\n",
       "\n",
       "mpl.figure.prototype.key_event = function(event, name) {\n",
       "\n",
       "    // Prevent repeat events\n",
       "    if (name == 'key_press')\n",
       "    {\n",
       "        if (event.which === this._key)\n",
       "            return;\n",
       "        else\n",
       "            this._key = event.which;\n",
       "    }\n",
       "    if (name == 'key_release')\n",
       "        this._key = null;\n",
       "\n",
       "    var value = '';\n",
       "    if (event.ctrlKey && event.which != 17)\n",
       "        value += \"ctrl+\";\n",
       "    if (event.altKey && event.which != 18)\n",
       "        value += \"alt+\";\n",
       "    if (event.shiftKey && event.which != 16)\n",
       "        value += \"shift+\";\n",
       "\n",
       "    value += 'k';\n",
       "    value += event.which.toString();\n",
       "\n",
       "    this._key_event_extra(event, name);\n",
       "\n",
       "    this.send_message(name, {key: value,\n",
       "                             guiEvent: simpleKeys(event)});\n",
       "    return false;\n",
       "}\n",
       "\n",
       "mpl.figure.prototype.toolbar_button_onclick = function(name) {\n",
       "    if (name == 'download') {\n",
       "        this.handle_save(this, null);\n",
       "    } else {\n",
       "        this.send_message(\"toolbar_button\", {name: name});\n",
       "    }\n",
       "};\n",
       "\n",
       "mpl.figure.prototype.toolbar_button_onmouseover = function(tooltip) {\n",
       "    this.message.textContent = tooltip;\n",
       "};\n",
       "mpl.toolbar_items = [[\"Home\", \"Reset original view\", \"fa fa-home icon-home\", \"home\"], [\"Back\", \"Back to  previous view\", \"fa fa-arrow-left icon-arrow-left\", \"back\"], [\"Forward\", \"Forward to next view\", \"fa fa-arrow-right icon-arrow-right\", \"forward\"], [\"\", \"\", \"\", \"\"], [\"Pan\", \"Pan axes with left mouse, zoom with right\", \"fa fa-arrows icon-move\", \"pan\"], [\"Zoom\", \"Zoom to rectangle\", \"fa fa-square-o icon-check-empty\", \"zoom\"], [\"\", \"\", \"\", \"\"], [\"Download\", \"Download plot\", \"fa fa-floppy-o icon-save\", \"download\"]];\n",
       "\n",
       "mpl.extensions = [\"eps\", \"jpeg\", \"pdf\", \"png\", \"ps\", \"raw\", \"svg\", \"tif\"];\n",
       "\n",
       "mpl.default_extension = \"png\";var comm_websocket_adapter = function(comm) {\n",
       "    // Create a \"websocket\"-like object which calls the given IPython comm\n",
       "    // object with the appropriate methods. Currently this is a non binary\n",
       "    // socket, so there is still some room for performance tuning.\n",
       "    var ws = {};\n",
       "\n",
       "    ws.close = function() {\n",
       "        comm.close()\n",
       "    };\n",
       "    ws.send = function(m) {\n",
       "        //console.log('sending', m);\n",
       "        comm.send(m);\n",
       "    };\n",
       "    // Register the callback with on_msg.\n",
       "    comm.on_msg(function(msg) {\n",
       "        //console.log('receiving', msg['content']['data'], msg);\n",
       "        // Pass the mpl event to the overriden (by mpl) onmessage function.\n",
       "        ws.onmessage(msg['content']['data'])\n",
       "    });\n",
       "    return ws;\n",
       "}\n",
       "\n",
       "mpl.mpl_figure_comm = function(comm, msg) {\n",
       "    // This is the function which gets called when the mpl process\n",
       "    // starts-up an IPython Comm through the \"matplotlib\" channel.\n",
       "\n",
       "    var id = msg.content.data.id;\n",
       "    // Get hold of the div created by the display call when the Comm\n",
       "    // socket was opened in Python.\n",
       "    var element = $(\"#\" + id);\n",
       "    var ws_proxy = comm_websocket_adapter(comm)\n",
       "\n",
       "    function ondownload(figure, format) {\n",
       "        window.open(figure.imageObj.src);\n",
       "    }\n",
       "\n",
       "    var fig = new mpl.figure(id, ws_proxy,\n",
       "                           ondownload,\n",
       "                           element.get(0));\n",
       "\n",
       "    // Call onopen now - mpl needs it, as it is assuming we've passed it a real\n",
       "    // web socket which is closed, not our websocket->open comm proxy.\n",
       "    ws_proxy.onopen();\n",
       "\n",
       "    fig.parent_element = element.get(0);\n",
       "    fig.cell_info = mpl.find_output_cell(\"<div id='\" + id + \"'></div>\");\n",
       "    if (!fig.cell_info) {\n",
       "        console.error(\"Failed to find cell for figure\", id, fig);\n",
       "        return;\n",
       "    }\n",
       "\n",
       "    var output_index = fig.cell_info[2]\n",
       "    var cell = fig.cell_info[0];\n",
       "\n",
       "};\n",
       "\n",
       "mpl.figure.prototype.handle_close = function(fig, msg) {\n",
       "    var width = fig.canvas.width/mpl.ratio\n",
       "    fig.root.unbind('remove')\n",
       "\n",
       "    // Update the output cell to use the data from the current canvas.\n",
       "    fig.push_to_output();\n",
       "    var dataURL = fig.canvas.toDataURL();\n",
       "    // Re-enable the keyboard manager in IPython - without this line, in FF,\n",
       "    // the notebook keyboard shortcuts fail.\n",
       "    IPython.keyboard_manager.enable()\n",
       "    $(fig.parent_element).html('<img src=\"' + dataURL + '\" width=\"' + width + '\">');\n",
       "    fig.close_ws(fig, msg);\n",
       "}\n",
       "\n",
       "mpl.figure.prototype.close_ws = function(fig, msg){\n",
       "    fig.send_message('closing', msg);\n",
       "    // fig.ws.close()\n",
       "}\n",
       "\n",
       "mpl.figure.prototype.push_to_output = function(remove_interactive) {\n",
       "    // Turn the data on the canvas into data in the output cell.\n",
       "    var width = this.canvas.width/mpl.ratio\n",
       "    var dataURL = this.canvas.toDataURL();\n",
       "    this.cell_info[1]['text/html'] = '<img src=\"' + dataURL + '\" width=\"' + width + '\">';\n",
       "}\n",
       "\n",
       "mpl.figure.prototype.updated_canvas_event = function() {\n",
       "    // Tell IPython that the notebook contents must change.\n",
       "    IPython.notebook.set_dirty(true);\n",
       "    this.send_message(\"ack\", {});\n",
       "    var fig = this;\n",
       "    // Wait a second, then push the new image to the DOM so\n",
       "    // that it is saved nicely (might be nice to debounce this).\n",
       "    setTimeout(function () { fig.push_to_output() }, 1000);\n",
       "}\n",
       "\n",
       "mpl.figure.prototype._init_toolbar = function() {\n",
       "    var fig = this;\n",
       "\n",
       "    var nav_element = $('<div/>')\n",
       "    nav_element.attr('style', 'width: 100%');\n",
       "    this.root.append(nav_element);\n",
       "\n",
       "    // Define a callback function for later on.\n",
       "    function toolbar_event(event) {\n",
       "        return fig.toolbar_button_onclick(event['data']);\n",
       "    }\n",
       "    function toolbar_mouse_event(event) {\n",
       "        return fig.toolbar_button_onmouseover(event['data']);\n",
       "    }\n",
       "\n",
       "    for(var toolbar_ind in mpl.toolbar_items){\n",
       "        var name = mpl.toolbar_items[toolbar_ind][0];\n",
       "        var tooltip = mpl.toolbar_items[toolbar_ind][1];\n",
       "        var image = mpl.toolbar_items[toolbar_ind][2];\n",
       "        var method_name = mpl.toolbar_items[toolbar_ind][3];\n",
       "\n",
       "        if (!name) { continue; };\n",
       "\n",
       "        var button = $('<button class=\"btn btn-default\" href=\"#\" title=\"' + name + '\"><i class=\"fa ' + image + ' fa-lg\"></i></button>');\n",
       "        button.click(method_name, toolbar_event);\n",
       "        button.mouseover(tooltip, toolbar_mouse_event);\n",
       "        nav_element.append(button);\n",
       "    }\n",
       "\n",
       "    // Add the status bar.\n",
       "    var status_bar = $('<span class=\"mpl-message\" style=\"text-align:right; float: right;\"/>');\n",
       "    nav_element.append(status_bar);\n",
       "    this.message = status_bar[0];\n",
       "\n",
       "    // Add the close button to the window.\n",
       "    var buttongrp = $('<div class=\"btn-group inline pull-right\"></div>');\n",
       "    var button = $('<button class=\"btn btn-mini btn-primary\" href=\"#\" title=\"Stop Interaction\"><i class=\"fa fa-power-off icon-remove icon-large\"></i></button>');\n",
       "    button.click(function (evt) { fig.handle_close(fig, {}); } );\n",
       "    button.mouseover('Stop Interaction', toolbar_mouse_event);\n",
       "    buttongrp.append(button);\n",
       "    var titlebar = this.root.find($('.ui-dialog-titlebar'));\n",
       "    titlebar.prepend(buttongrp);\n",
       "}\n",
       "\n",
       "mpl.figure.prototype._root_extra_style = function(el){\n",
       "    var fig = this\n",
       "    el.on(\"remove\", function(){\n",
       "\tfig.close_ws(fig, {});\n",
       "    });\n",
       "}\n",
       "\n",
       "mpl.figure.prototype._canvas_extra_style = function(el){\n",
       "    // this is important to make the div 'focusable\n",
       "    el.attr('tabindex', 0)\n",
       "    // reach out to IPython and tell the keyboard manager to turn it's self\n",
       "    // off when our div gets focus\n",
       "\n",
       "    // location in version 3\n",
       "    if (IPython.notebook.keyboard_manager) {\n",
       "        IPython.notebook.keyboard_manager.register_events(el);\n",
       "    }\n",
       "    else {\n",
       "        // location in version 2\n",
       "        IPython.keyboard_manager.register_events(el);\n",
       "    }\n",
       "\n",
       "}\n",
       "\n",
       "mpl.figure.prototype._key_event_extra = function(event, name) {\n",
       "    var manager = IPython.notebook.keyboard_manager;\n",
       "    if (!manager)\n",
       "        manager = IPython.keyboard_manager;\n",
       "\n",
       "    // Check for shift+enter\n",
       "    if (event.shiftKey && event.which == 13) {\n",
       "        this.canvas_div.blur();\n",
       "        event.shiftKey = false;\n",
       "        // Send a \"J\" for go to next cell\n",
       "        event.which = 74;\n",
       "        event.keyCode = 74;\n",
       "        manager.command_mode();\n",
       "        manager.handle_keydown(event);\n",
       "    }\n",
       "}\n",
       "\n",
       "mpl.figure.prototype.handle_save = function(fig, msg) {\n",
       "    fig.ondownload(fig, null);\n",
       "}\n",
       "\n",
       "\n",
       "mpl.find_output_cell = function(html_output) {\n",
       "    // Return the cell and output element which can be found *uniquely* in the notebook.\n",
       "    // Note - this is a bit hacky, but it is done because the \"notebook_saving.Notebook\"\n",
       "    // IPython event is triggered only after the cells have been serialised, which for\n",
       "    // our purposes (turning an active figure into a static one), is too late.\n",
       "    var cells = IPython.notebook.get_cells();\n",
       "    var ncells = cells.length;\n",
       "    for (var i=0; i<ncells; i++) {\n",
       "        var cell = cells[i];\n",
       "        if (cell.cell_type === 'code'){\n",
       "            for (var j=0; j<cell.output_area.outputs.length; j++) {\n",
       "                var data = cell.output_area.outputs[j];\n",
       "                if (data.data) {\n",
       "                    // IPython >= 3 moved mimebundle to data attribute of output\n",
       "                    data = data.data;\n",
       "                }\n",
       "                if (data['text/html'] == html_output) {\n",
       "                    return [cell, data, j];\n",
       "                }\n",
       "            }\n",
       "        }\n",
       "    }\n",
       "}\n",
       "\n",
       "// Register the function which deals with the matplotlib target/channel.\n",
       "// The kernel may be null if the page has been refreshed.\n",
       "if (IPython.notebook.kernel != null) {\n",
       "    IPython.notebook.kernel.comm_manager.register_target('matplotlib', mpl.mpl_figure_comm);\n",
       "}\n"
      ],
      "text/plain": [
       "<IPython.core.display.Javascript object>"
      ]
     },
     "metadata": {},
     "output_type": "display_data"
    },
    {
     "data": {
      "text/html": [
       "<img src=\"data:image/png;base64,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\" width=\"652\">"
      ],
      "text/plain": [
       "<IPython.core.display.HTML object>"
      ]
     },
     "metadata": {},
     "output_type": "display_data"
    }
   ],
   "source": [
    "visual_model_selection(X, y, SGDClassifier())"
   ]
  },
  {
   "cell_type": "code",
   "execution_count": null,
   "metadata": {},
   "outputs": [],
   "source": []
  },
  {
   "cell_type": "markdown",
   "metadata": {},
   "source": [
    "*********************************\n",
    "Experiment with Ridge, Lasso, ElasticNet....not working yet.\n",
    "*********************************"
   ]
  },
  {
   "cell_type": "code",
   "execution_count": 41,
   "metadata": {},
   "outputs": [
    {
     "data": {
      "text/plain": [
       "0.09965424812008616"
      ]
     },
     "execution_count": 41,
     "metadata": {},
     "output_type": "execute_result"
    }
   ],
   "source": [
    "\n",
    "#model = Lasso()\n",
    "model = Lasso(alpha=0.1)\n",
    "results=model.fit(features, labels)\n",
    "#print(list(zip(features, model.coef_.tolist())))\n",
    "model.score(features, labels)"
   ]
  },
  {
   "cell_type": "code",
   "execution_count": 42,
   "metadata": {},
   "outputs": [
    {
     "name": "stderr",
     "output_type": "stream",
     "text": [
      "C:\\Users\\Rebecca\\Anaconda3\\lib\\site-packages\\scipy\\linalg\\basic.py:40: RuntimeWarning: scipy.linalg.solve\n",
      "Ill-conditioned matrix detected. Result is not guaranteed to be accurate.\n",
      "Reciprocal condition number/precision: 1.784018604550782e-26 / 1.1102230246251565e-16\n",
      "  RuntimeWarning)\n"
     ]
    },
    {
     "data": {
      "text/plain": [
       "0.20399609272029495"
      ]
     },
     "execution_count": 42,
     "metadata": {},
     "output_type": "execute_result"
    }
   ],
   "source": [
    "\n",
    "#model = Ridge()\n",
    "model = Ridge(alpha=0.001)\n",
    "model.fit(features, labels)\n",
    "#print(list(zip(features, model.coef_.tolist())))\n",
    "model.score(features, labels)"
   ]
  },
  {
   "cell_type": "code",
   "execution_count": 43,
   "metadata": {},
   "outputs": [
    {
     "data": {
      "text/plain": [
       "0.1264511206180554"
      ]
     },
     "execution_count": 43,
     "metadata": {},
     "output_type": "execute_result"
    }
   ],
   "source": [
    "#model = ElasticNet()\n",
    "model = ElasticNet(l1_ratio = 0.00001)\n",
    "model.fit(features, labels)\n",
    "#print(list(zip(features, model.coef_.tolist())))\n",
    "model.score(features, labels)"
   ]
  }
 ],
 "metadata": {
  "kernelspec": {
   "display_name": "Python 3",
   "language": "python",
   "name": "python3"
  },
  "language_info": {
   "codemirror_mode": {
    "name": "ipython",
    "version": 3
   },
   "file_extension": ".py",
   "mimetype": "text/x-python",
   "name": "python",
   "nbconvert_exporter": "python",
   "pygments_lexer": "ipython3",
   "version": "3.6.4"
  }
 },
 "nbformat": 4,
 "nbformat_minor": 2
}
