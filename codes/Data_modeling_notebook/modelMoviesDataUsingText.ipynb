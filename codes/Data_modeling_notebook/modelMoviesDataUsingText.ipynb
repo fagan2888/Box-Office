{
 "cells": [
  {
   "cell_type": "markdown",
   "metadata": {},
   "source": [
    "# Movie Profit Prediction Using Text\n",
    "\n",
    "This notebook works through classification and clustering models related to predicting the profit of movies released between 1995 and June 2018 using text analysis.  The related GitHub for this project is here: https://github.com/georgetown-analytics/Box-Office.  \n",
    "\n",
    "The raw data sources were cleaned, wrangled, and pre-processed in separate python codes stored here: https://github.com/georgetown-analytics/Box-Office/tree/master/codes.  These notebooks are for the modeling stage of the project."
   ]
  },
  {
   "cell_type": "code",
   "execution_count": 152,
   "metadata": {},
   "outputs": [],
   "source": [
    "import pandas as pd\n",
    "import numpy as np\n",
    "import pandas.io.sql as pd_sql\n",
    "import sqlite3 as sql\n",
    "import matplotlib.pyplot as plt\n",
    "from pandas.plotting import scatter_matrix\n",
    "import seaborn as sns\n",
    "\n",
    "import statsmodels.api as sm\n",
    "\n",
    "from sklearn.ensemble import (BaggingClassifier, ExtraTreesClassifier, \n",
    "    RandomForestClassifier, AdaBoostClassifier, GradientBoostingClassifier)\n",
    "from sklearn.linear_model import (LinearRegression, LogisticRegressionCV, \n",
    "    LogisticRegression, SGDClassifier, Ridge, Lasso, ElasticNet, LassoCV, RidgeCV, ElasticNetCV)\n",
    "from sklearn.svm import LinearSVC, NuSVC, SVC\n",
    "from xgboost import XGBClassifier\n",
    "from sklearn.neighbors import KNeighborsClassifier\n",
    "from sklearn.naive_bayes import MultinomialNB, GaussianNB \n",
    "from sklearn.neural_network import MLPClassifier\n",
    "\n",
    "from sklearn import cross_validation\n",
    "from sklearn.cross_validation import train_test_split\n",
    "from sklearn.model_selection import train_test_split\n",
    "from sklearn.cross_validation import cross_val_score\n",
    "from sklearn.model_selection import cross_validate\n",
    "\n",
    "from sklearn.metrics import accuracy_score, f1_score, mean_absolute_error, r2_score\n",
    "from sklearn.decomposition import PCA\n",
    "from sklearn.feature_selection import SelectFromModel\n",
    "from sklearn.preprocessing import StandardScaler\n",
    "from sklearn import preprocessing\n",
    "\n",
    "from sklearn.discriminant_analysis import LinearDiscriminantAnalysis as LDA\n",
    "from sklearn.base import BaseEstimator, TransformerMixin\n",
    "from sklearn.preprocessing import LabelEncoder, OneHotEncoder\n",
    "from sklearn.pipeline import Pipeline\n",
    "\n",
    "from yellowbrick.classifier import ClassificationReport, ROCAUC\n",
    "from yellowbrick.features import FeatureImportances\n",
    "\n",
    "from imblearn.over_sampling import SMOTE\n",
    "\n",
    "from sklearn.tree import export_graphviz\n",
    "import pydot\n",
    "\n",
    "%matplotlib inline"
   ]
  },
  {
   "cell_type": "code",
   "execution_count": 153,
   "metadata": {},
   "outputs": [],
   "source": [
    "import warnings\n",
    "warnings.filterwarnings('ignore')"
   ]
  },
  {
   "cell_type": "code",
   "execution_count": 154,
   "metadata": {},
   "outputs": [],
   "source": [
    "con = sql.connect(r'c:\\users\\rebecca\\projs\\Box-Office\\database\\movies.db') \n",
    "\n",
    "data = pd_sql.read_sql('select * from finalMovies_20180814', con, index_col='index')"
   ]
  },
  {
   "cell_type": "markdown",
   "metadata": {},
   "source": [
    "# Classification Models\n",
    "\n",
    "We can try to develop classes of movies in order to use classification models.  So, this section will look at whether we can predict movie profitability.  We will use a feature we created during the pre-processing step: \"Profit_Bucket\", which indicates whether a movie made less than its budget, same as its budget, twice its budget, three times, etc.  The classes are: <1x, [1-2x), [2-3x), [3-4x), [4-5x), and >=5x.  \n",
    "\n",
    "From this, we will create an additional feature called \"Profit_Bucket_Binary\" which will equal a 1 if the movie made at least twice its budget, and 0 if not.  We chose this threshold because in some of the literature regarding movie profitability, a rule-of-thumb some people follow is a movie likely makes a profit if it makes at least twice its production budget.  This is due to the extra costs of marketing, distribution, and other expenses.\n",
    "\n",
    "Some of the codes to run models were taken from some labs we did in Dr. Bari's class and Dr. Bengfort's class."
   ]
  },
  {
   "cell_type": "markdown",
   "metadata": {},
   "source": [
    "### Create Profit Bucket Binary variable and set (X, y) train and test sets\n",
    "\n",
    "We will create the new feature \"Profit_Bucket_Binary\" and set the train and test sets that we will use for all the classification model testing. "
   ]
  },
  {
   "cell_type": "code",
   "execution_count": 155,
   "metadata": {},
   "outputs": [],
   "source": [
    "#Limit dataset to those with filled in Revenue, Budget, and Length columns.  Based on what I've seen, this helps to\n",
    "#get rid of remaining duplicates in dataset.  Also helps to narrow down dataset to test profitability, where we\n",
    "#need both revenue and budget filled in.  We could experiment with movies with revenue greater than $100,000, if \n",
    "#we choose to.\n",
    "movies = data[(data['Revenue_Real']>0)&(data['Budget_Real']>0)&(data['Length']>0)]\n",
    "\n",
    "#Make binary variable for if movie made at least 2x budget\n",
    "movies['Profit_Bucket_Binary']=np.where(movies['Profit_Bucket']=='<1x', 0, np.where(movies['Profit_Bucket']=='[1-2x)', \n",
    "                        0, np.where(movies['Profit_Bucket']=='[2-3x)', 1, np.where(movies['Profit_Bucket']=='[3-4x)', \n",
    "                        1, np.where(movies['Profit_Bucket']=='[4-5x)', 1, np.where(movies['Profit_Bucket']=='>=5x', 1, ''))))))\n"
   ]
  },
  {
   "cell_type": "code",
   "execution_count": 156,
   "metadata": {},
   "outputs": [
    {
     "name": "stdout",
     "output_type": "stream",
     "text": [
      "0    2539\n",
      "1    1875\n",
      "Name: Profit_Bucket_Binary, dtype: int64\n"
     ]
    },
    {
     "data": {
      "image/png": "[encoded data removed]",
      "text/plain": [
       "<matplotlib.figure.Figure at 0x8ea02f7048>"
      ]
     },
     "metadata": {},
     "output_type": "display_data"
    }
   ],
   "source": [
    "#Show distribution of profit bucket binary\n",
    "%matplotlib inline\n",
    "print(movies['Profit_Bucket_Binary'].value_counts())\n",
    "movies['Profit_Bucket_Binary'].value_counts().plot(kind='barh')\n",
    "plt.show()"
   ]
  },
  {
   "cell_type": "code",
   "execution_count": 157,
   "metadata": {},
   "outputs": [],
   "source": [
    "classifiers = [\n",
    "    #LogisticRegressionCV(random_state=1, cv=5),\n",
    "    #LogisticRegression(random_state=1),\n",
    "    #RandomForestClassifier(n_estimators=50, oob_score=True),\n",
    "    #XGBClassifier(), #Don't know why, but this model isn't working when using SMOTE.  \n",
    "    #BaggingClassifier(), \n",
    "    #ExtraTreesClassifier(),\n",
    "    #AdaBoostClassifier(),\n",
    "    #GradientBoostingClassifier(),\n",
    "    #MultinomialNB(),\n",
    "    #SGDClassifier(),\n",
    "    ##GaussianNB(),\n",
    "    #MLPClassifier(),\n",
    "    ##SVC(kernel='linear'),\n",
    "    #SVC(kernel='rbf'),\n",
    "    ##SVC(kernel='poly', degree=3),\n",
    "    #KNeighborsClassifier(), \n",
    "    LinearSVC()]"
   ]
  },
  {
   "cell_type": "markdown",
   "metadata": {},
   "source": [
    "### Part 1. Use Movie Tagline\n",
    "\n",
    "We will first try using the movie tagline to see if we can predict a movie's profitability class. The Tagline feature is the shortest text feature we have in our dataset.\n",
    "\n",
    "Some portions of this code were adapted from sklearn's documentation on text analysis: http://scikit-learn.org/stable/tutorial/text_analytics/working_with_text_data.html"
   ]
  },
  {
   "cell_type": "code",
   "execution_count": 158,
   "metadata": {},
   "outputs": [],
   "source": [
    "tagline = movies[pd.notnull(movies['Tagline'])]\n",
    "\n",
    "#Set X, y\n",
    "X = tagline[[\"Tagline\"]]\n",
    "y = tagline[\"Profit_Bucket_Binary\"]\n",
    "\n",
    "# Next split up the data with the 'train test split' method in the Cross Validation module\n",
    "seed=3\n",
    "X_train, X_test, y_train, y_test = cross_validation.train_test_split(X, y, test_size = 0.2, random_state=seed)"
   ]
  },
  {
   "cell_type": "code",
   "execution_count": 159,
   "metadata": {},
   "outputs": [
    {
     "name": "stdout",
     "output_type": "stream",
     "text": [
      "0    2121\n",
      "1    1736\n",
      "Name: Profit_Bucket_Binary, dtype: int64\n"
     ]
    },
    {
     "data": {
      "image/png": "[encoded data removed]",
      "text/plain": [
       "<matplotlib.figure.Figure at 0x8ea1464198>"
      ]
     },
     "metadata": {},
     "output_type": "display_data"
    }
   ],
   "source": [
    "#Show distribution of profit bucket binary after restricting not null Tagline column\n",
    "%matplotlib inline\n",
    "print(tagline['Profit_Bucket_Binary'].value_counts())\n",
    "tagline['Profit_Bucket_Binary'].value_counts().plot(kind='barh')\n",
    "plt.show()"
   ]
  },
  {
   "cell_type": "code",
   "execution_count": 160,
   "metadata": {},
   "outputs": [],
   "source": [
    "#X['Tagline'][0]\n",
    "#X_train.shape, y_train.shape\n",
    "#print(X_train)"
   ]
  },
  {
   "cell_type": "code",
   "execution_count": null,
   "metadata": {},
   "outputs": [],
   "source": []
  },
  {
   "cell_type": "code",
   "execution_count": 161,
   "metadata": {},
   "outputs": [
    {
     "data": {
      "text/plain": [
       "(772, 3660)"
      ]
     },
     "execution_count": 161,
     "metadata": {},
     "output_type": "execute_result"
    }
   ],
   "source": [
    "# create the transform\n",
    "vectorizer = CountVectorizer()\n",
    "# tokenize and build vocab\n",
    "X_train_counts = count_vect.transform(X_train.Tagline)\n",
    "X_train_counts.shape\n",
    "\n",
    "\n",
    "#print(X_train_counts)\n",
    "#vectorizer.fit(X_train.Tagline)\n",
    "## summarize\n",
    "#print(vectorizer.vocabulary_)\n",
    "\n",
    "X_test_counts = count_vect.transform(X_test.Tagline)\n",
    "X_test_counts.shape\n"
   ]
  },
  {
   "cell_type": "code",
   "execution_count": 162,
   "metadata": {},
   "outputs": [
    {
     "data": {
      "text/plain": [
       "(772, 3660)"
      ]
     },
     "execution_count": 162,
     "metadata": {},
     "output_type": "execute_result"
    }
   ],
   "source": [
    "tfidf_transformer = TfidfTransformer()\n",
    "X_train_tfidf = tfidf_transformer.fit_transform(X_train_counts)\n",
    "X_train_tfidf.shape\n",
    "\n",
    "X_test_tfidf = tfidf_transformer.fit_transform(X_test_counts)\n",
    "X_test_tfidf.shape"
   ]
  },
  {
   "cell_type": "code",
   "execution_count": 163,
   "metadata": {
    "scrolled": false
   },
   "outputs": [
    {
     "name": "stdout",
     "output_type": "stream",
     "text": [
      "LinearSVC [0.59661017 0.45827011]\n"
     ]
    },
    {
     "data": {
      "image/png": "[encoded data removed]",
      "text/plain": [
       "<matplotlib.figure.Figure at 0x8eaedca160>"
      ]
     },
     "metadata": {},
     "output_type": "display_data"
    }
   ],
   "source": [
    "for clf in classifiers:\n",
    "    clf.fit(X_train_tfidf, y_train)\n",
    "    name = clf.__class__.__name__\n",
    "    expected = y_test\n",
    "    predicted = clf.predict(X_test_tfidf)\n",
    "    print(name, (f1_score(expected, predicted, average=None)))\n",
    "    \n",
    "    oz = ClassificationReport(clf, support=True)\n",
    "    oz.fit(X_train_tfidf, y_train)\n",
    "    oz.score(X_test_tfidf, y_test)\n",
    "    oz.poof()"
   ]
  },
  {
   "cell_type": "code",
   "execution_count": 164,
   "metadata": {},
   "outputs": [],
   "source": [
    "#plot.coefficients(clf, vectorizer.get_feature_names())"
   ]
  },
  {
   "cell_type": "code",
   "execution_count": 165,
   "metadata": {},
   "outputs": [
    {
     "data": {
      "image/png": "[encoded data removed]",
      "text/plain": [
       "<matplotlib.figure.Figure at 0x8ea0103780>"
      ]
     },
     "metadata": {},
     "output_type": "display_data"
    }
   ],
   "source": [
    "oz=FeatureImportances(GradientBoostingClassifier())\n",
    "oz.fit(X_train_tfidf, y_train)\n",
    "oz.poof()"
   ]
  },
  {
   "cell_type": "code",
   "execution_count": null,
   "metadata": {},
   "outputs": [],
   "source": []
  },
  {
   "cell_type": "markdown",
   "metadata": {},
   "source": [
    "### Part 2. Use Movie Plot\n",
    "\n",
    "We will next try using the movie plot to see if we can predict a movie's profitability class. The Plot feature is the next longest text feature we have in our dataset.\n",
    "\n",
    "Some portions of this code were adapted from sklearn's documentation on text analysis: http://scikit-learn.org/stable/tutorial/text_analytics/working_with_text_data.html"
   ]
  },
  {
   "cell_type": "code",
   "execution_count": 166,
   "metadata": {},
   "outputs": [],
   "source": [
    "plot = movies[pd.notnull(movies['Plot'])]\n",
    "\n",
    "#Set X, y\n",
    "X = plot[[\"Plot\"]]\n",
    "y = plot[\"Profit_Bucket_Binary\"]\n",
    "\n",
    "# Next split up the data with the 'train test split' method in the Cross Validation module\n",
    "seed=3\n",
    "X_train, X_test, y_train, y_test = cross_validation.train_test_split(X, y, test_size = 0.2, random_state=seed)"
   ]
  },
  {
   "cell_type": "code",
   "execution_count": 167,
   "metadata": {},
   "outputs": [
    {
     "name": "stdout",
     "output_type": "stream",
     "text": [
      "0    2539\n",
      "1    1875\n",
      "Name: Profit_Bucket_Binary, dtype: int64\n"
     ]
    },
    {
     "data": {
      "image/png": "[encoded data removed]",
      "text/plain": [
       "<matplotlib.figure.Figure at 0x8ea8959a20>"
      ]
     },
     "metadata": {},
     "output_type": "display_data"
    }
   ],
   "source": [
    "#Show distribution of profit bucket binary after restricting not null Tagline column\n",
    "%matplotlib inline\n",
    "print(plot['Profit_Bucket_Binary'].value_counts())\n",
    "plot['Profit_Bucket_Binary'].value_counts().plot(kind='barh')\n",
    "plt.show()"
   ]
  },
  {
   "cell_type": "code",
   "execution_count": 168,
   "metadata": {},
   "outputs": [],
   "source": [
    "#X['Tagline'][0]\n",
    "#X_train.shape, y_train.shape\n",
    "#print(X_train)"
   ]
  },
  {
   "cell_type": "code",
   "execution_count": null,
   "metadata": {},
   "outputs": [],
   "source": []
  },
  {
   "cell_type": "code",
   "execution_count": 169,
   "metadata": {},
   "outputs": [
    {
     "data": {
      "text/plain": [
       "(883, 3660)"
      ]
     },
     "execution_count": 169,
     "metadata": {},
     "output_type": "execute_result"
    }
   ],
   "source": [
    "# create the transform\n",
    "vectorizer = CountVectorizer()\n",
    "# tokenize and build vocab\n",
    "X_train_counts = count_vect.transform(X_train.Plot)\n",
    "X_train_counts.shape\n",
    "\n",
    "\n",
    "#print(X_train_counts)\n",
    "#vectorizer.fit(X_train.Tagline)\n",
    "## summarize\n",
    "#print(vectorizer.vocabulary_)\n",
    "\n",
    "X_test_counts = count_vect.transform(X_test.Plot)\n",
    "X_test_counts.shape\n"
   ]
  },
  {
   "cell_type": "code",
   "execution_count": 170,
   "metadata": {},
   "outputs": [
    {
     "data": {
      "text/plain": [
       "(883, 3660)"
      ]
     },
     "execution_count": 170,
     "metadata": {},
     "output_type": "execute_result"
    }
   ],
   "source": [
    "tfidf_transformer = TfidfTransformer()\n",
    "X_train_tfidf = tfidf_transformer.fit_transform(X_train_counts)\n",
    "X_train_tfidf.shape\n",
    "\n",
    "X_test_tfidf = tfidf_transformer.fit_transform(X_test_counts)\n",
    "X_test_tfidf.shape"
   ]
  },
  {
   "cell_type": "code",
   "execution_count": 171,
   "metadata": {
    "scrolled": false
   },
   "outputs": [
    {
     "name": "stdout",
     "output_type": "stream",
     "text": [
      "LinearSVC [0.64326376 0.47191011]\n"
     ]
    },
    {
     "data": {
      "image/png": "[encoded data removed]",
      "text/plain": [
       "<matplotlib.figure.Figure at 0x8eaeeee0b8>"
      ]
     },
     "metadata": {},
     "output_type": "display_data"
    }
   ],
   "source": [
    "for clf in classifiers:\n",
    "    clf.fit(X_train_tfidf, y_train)\n",
    "    name = clf.__class__.__name__\n",
    "    expected = y_test\n",
    "    predicted = clf.predict(X_test_tfidf)\n",
    "    print(name, (f1_score(expected, predicted, average=None)))\n",
    "    \n",
    "    oz = ClassificationReport(clf, support=True)\n",
    "    oz.fit(X_train_tfidf, y_train)\n",
    "    oz.score(X_test_tfidf, y_test)\n",
    "    oz.poof()"
   ]
  },
  {
   "cell_type": "code",
   "execution_count": null,
   "metadata": {},
   "outputs": [],
   "source": []
  },
  {
   "cell_type": "code",
   "execution_count": null,
   "metadata": {},
   "outputs": [],
   "source": []
  },
  {
   "cell_type": "markdown",
   "metadata": {},
   "source": [
    "### Part 3. Use Movie Overview\n",
    "\n",
    "We will next try using the movie overview to see if we can predict a movie's profitability class. The Overview feature is the longest text feature we have in our dataset.\n",
    "\n",
    "Some portions of this code were adapted from sklearn's documentation on text analysis: http://scikit-learn.org/stable/tutorial/text_analytics/working_with_text_data.html"
   ]
  },
  {
   "cell_type": "code",
   "execution_count": 172,
   "metadata": {},
   "outputs": [],
   "source": [
    "overview = movies[pd.notnull(movies['Overview'])]\n",
    "\n",
    "#Set X, y\n",
    "X = overview[[\"Overview\"]]\n",
    "y = overview[\"Profit_Bucket_Binary\"]\n",
    "\n",
    "# Next split up the data with the 'train test split' method in the Cross Validation module\n",
    "seed=3\n",
    "X_train, X_test, y_train, y_test = cross_validation.train_test_split(X, y, test_size = 0.2, random_state=seed)"
   ]
  },
  {
   "cell_type": "code",
   "execution_count": 173,
   "metadata": {},
   "outputs": [
    {
     "name": "stdout",
     "output_type": "stream",
     "text": [
      "0    2539\n",
      "1    1875\n",
      "Name: Profit_Bucket_Binary, dtype: int64\n"
     ]
    },
    {
     "data": {
      "image/png": "[encoded data removed]",
      "text/plain": [
       "<matplotlib.figure.Figure at 0x8e9fdcb0b8>"
      ]
     },
     "metadata": {},
     "output_type": "display_data"
    }
   ],
   "source": [
    "#Show distribution of profit bucket binary after restricting not null Tagline column\n",
    "%matplotlib inline\n",
    "print(overview['Profit_Bucket_Binary'].value_counts())\n",
    "overview['Profit_Bucket_Binary'].value_counts().plot(kind='barh')\n",
    "plt.show()"
   ]
  },
  {
   "cell_type": "code",
   "execution_count": 174,
   "metadata": {},
   "outputs": [],
   "source": [
    "#X['Tagline'][0]\n",
    "#X_train.shape, y_train.shape\n",
    "#print(X_train)"
   ]
  },
  {
   "cell_type": "code",
   "execution_count": null,
   "metadata": {},
   "outputs": [],
   "source": []
  },
  {
   "cell_type": "code",
   "execution_count": 175,
   "metadata": {},
   "outputs": [
    {
     "data": {
      "text/plain": [
       "(883, 3660)"
      ]
     },
     "execution_count": 175,
     "metadata": {},
     "output_type": "execute_result"
    }
   ],
   "source": [
    "# create the transform\n",
    "vectorizer = CountVectorizer()\n",
    "# tokenize and build vocab\n",
    "X_train_counts = count_vect.transform(X_train.Overview)\n",
    "X_train_counts.shape\n",
    "\n",
    "\n",
    "#print(X_train_counts)\n",
    "#vectorizer.fit(X_train.Tagline)\n",
    "## summarize\n",
    "#print(vectorizer.vocabulary_)\n",
    "\n",
    "X_test_counts = count_vect.transform(X_test.Overview)\n",
    "X_test_counts.shape\n"
   ]
  },
  {
   "cell_type": "code",
   "execution_count": 176,
   "metadata": {},
   "outputs": [
    {
     "data": {
      "text/plain": [
       "(883, 3660)"
      ]
     },
     "execution_count": 176,
     "metadata": {},
     "output_type": "execute_result"
    }
   ],
   "source": [
    "tfidf_transformer = TfidfTransformer()\n",
    "X_train_tfidf = tfidf_transformer.fit_transform(X_train_counts)\n",
    "X_train_tfidf.shape\n",
    "\n",
    "X_test_tfidf = tfidf_transformer.fit_transform(X_test_counts)\n",
    "X_test_tfidf.shape"
   ]
  },
  {
   "cell_type": "code",
   "execution_count": 177,
   "metadata": {
    "scrolled": false
   },
   "outputs": [
    {
     "name": "stdout",
     "output_type": "stream",
     "text": [
      "LinearSVC [0.62748815 0.44725738]\n"
     ]
    },
    {
     "data": {
      "image/png": "[encoded data removed]",
      "text/plain": [
       "<matplotlib.figure.Figure at 0x8eaeda8828>"
      ]
     },
     "metadata": {},
     "output_type": "display_data"
    }
   ],
   "source": [
    "for clf in classifiers:\n",
    "    clf.fit(X_train_tfidf, y_train)\n",
    "    name = clf.__class__.__name__\n",
    "    expected = y_test\n",
    "    predicted = clf.predict(X_test_tfidf)\n",
    "    print(name, (f1_score(expected, predicted, average=None)))\n",
    "    \n",
    "    oz = ClassificationReport(clf, support=True)\n",
    "    oz.fit(X_train_tfidf, y_train)\n",
    "    oz.score(X_test_tfidf, y_test)\n",
    "    oz.poof()"
   ]
  },
  {
   "cell_type": "code",
   "execution_count": null,
   "metadata": {},
   "outputs": [],
   "source": []
  },
  {
   "cell_type": "code",
   "execution_count": null,
   "metadata": {},
   "outputs": [],
   "source": []
  }
 ],
 "metadata": {
  "kernelspec": {
   "display_name": "Python 3",
   "language": "python",
   "name": "python3"
  },
  "language_info": {
   "codemirror_mode": {
    "name": "ipython",
    "version": 3
   },
   "file_extension": ".py",
   "mimetype": "text/x-python",
   "name": "python",
   "nbconvert_exporter": "python",
   "pygments_lexer": "ipython3",
   "version": "3.6.4"
  }
 },
 "nbformat": 4,
 "nbformat_minor": 2
}
